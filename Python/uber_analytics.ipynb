{
 "cells": [
  {
   "cell_type": "markdown",
   "id": "e2c118cc",
   "metadata": {},
   "source": [
    "A bad experience with a driver can result in a profit loss for transport business, especially for those which have a important influence around the world."
   ]
  },
  {
   "cell_type": "markdown",
   "id": "1d7af9e5",
   "metadata": {},
   "source": [
    "This analysis focus on capturing important aspects of Uber drivers to follow customer satisfaction and be able to improve the business"
   ]
  },
  {
   "cell_type": "code",
   "execution_count": 3,
   "id": "7dbb42fe",
   "metadata": {},
   "outputs": [],
   "source": [
    "import pandas as pd\n",
    "import seaborn as sb\n",
    "import numpy as np"
   ]
  },
  {
   "cell_type": "code",
   "execution_count": 4,
   "id": "a5990672",
   "metadata": {},
   "outputs": [],
   "source": [
    "df = pd.read_csv(r\"C:\\Users\\PC\\Desktop\\data_analysis-portfolio\\datasets\\ncr_ride_bookings.csv\")\n",
    "\n"
   ]
  },
  {
   "cell_type": "code",
   "execution_count": 5,
   "id": "a0bfcb5f",
   "metadata": {},
   "outputs": [
    {
     "data": {
      "text/html": [
       "<div>\n",
       "<style scoped>\n",
       "    .dataframe tbody tr th:only-of-type {\n",
       "        vertical-align: middle;\n",
       "    }\n",
       "\n",
       "    .dataframe tbody tr th {\n",
       "        vertical-align: top;\n",
       "    }\n",
       "\n",
       "    .dataframe thead th {\n",
       "        text-align: right;\n",
       "    }\n",
       "</style>\n",
       "<table border=\"1\" class=\"dataframe\">\n",
       "  <thead>\n",
       "    <tr style=\"text-align: right;\">\n",
       "      <th></th>\n",
       "      <th>Date</th>\n",
       "      <th>Time</th>\n",
       "      <th>Booking ID</th>\n",
       "      <th>Booking Status</th>\n",
       "      <th>Customer ID</th>\n",
       "      <th>Vehicle Type</th>\n",
       "      <th>Pickup Location</th>\n",
       "      <th>Drop Location</th>\n",
       "      <th>Avg VTAT</th>\n",
       "      <th>Avg CTAT</th>\n",
       "      <th>...</th>\n",
       "      <th>Reason for cancelling by Customer</th>\n",
       "      <th>Cancelled Rides by Driver</th>\n",
       "      <th>Driver Cancellation Reason</th>\n",
       "      <th>Incomplete Rides</th>\n",
       "      <th>Incomplete Rides Reason</th>\n",
       "      <th>Booking Value</th>\n",
       "      <th>Ride Distance</th>\n",
       "      <th>Driver Ratings</th>\n",
       "      <th>Customer Rating</th>\n",
       "      <th>Payment Method</th>\n",
       "    </tr>\n",
       "  </thead>\n",
       "  <tbody>\n",
       "    <tr>\n",
       "      <th>0</th>\n",
       "      <td>2024-03-23</td>\n",
       "      <td>12:29:38</td>\n",
       "      <td>\"CNR5884300\"</td>\n",
       "      <td>No Driver Found</td>\n",
       "      <td>\"CID1982111\"</td>\n",
       "      <td>eBike</td>\n",
       "      <td>Palam Vihar</td>\n",
       "      <td>Jhilmil</td>\n",
       "      <td>NaN</td>\n",
       "      <td>NaN</td>\n",
       "      <td>...</td>\n",
       "      <td>NaN</td>\n",
       "      <td>NaN</td>\n",
       "      <td>NaN</td>\n",
       "      <td>NaN</td>\n",
       "      <td>NaN</td>\n",
       "      <td>NaN</td>\n",
       "      <td>NaN</td>\n",
       "      <td>NaN</td>\n",
       "      <td>NaN</td>\n",
       "      <td>NaN</td>\n",
       "    </tr>\n",
       "    <tr>\n",
       "      <th>1</th>\n",
       "      <td>2024-11-29</td>\n",
       "      <td>18:01:39</td>\n",
       "      <td>\"CNR1326809\"</td>\n",
       "      <td>Incomplete</td>\n",
       "      <td>\"CID4604802\"</td>\n",
       "      <td>Go Sedan</td>\n",
       "      <td>Shastri Nagar</td>\n",
       "      <td>Gurgaon Sector 56</td>\n",
       "      <td>4.9</td>\n",
       "      <td>14.0</td>\n",
       "      <td>...</td>\n",
       "      <td>NaN</td>\n",
       "      <td>NaN</td>\n",
       "      <td>NaN</td>\n",
       "      <td>1.0</td>\n",
       "      <td>Vehicle Breakdown</td>\n",
       "      <td>237.0</td>\n",
       "      <td>5.73</td>\n",
       "      <td>NaN</td>\n",
       "      <td>NaN</td>\n",
       "      <td>UPI</td>\n",
       "    </tr>\n",
       "    <tr>\n",
       "      <th>2</th>\n",
       "      <td>2024-08-23</td>\n",
       "      <td>08:56:10</td>\n",
       "      <td>\"CNR8494506\"</td>\n",
       "      <td>Completed</td>\n",
       "      <td>\"CID9202816\"</td>\n",
       "      <td>Auto</td>\n",
       "      <td>Khandsa</td>\n",
       "      <td>Malviya Nagar</td>\n",
       "      <td>13.4</td>\n",
       "      <td>25.8</td>\n",
       "      <td>...</td>\n",
       "      <td>NaN</td>\n",
       "      <td>NaN</td>\n",
       "      <td>NaN</td>\n",
       "      <td>NaN</td>\n",
       "      <td>NaN</td>\n",
       "      <td>627.0</td>\n",
       "      <td>13.58</td>\n",
       "      <td>4.9</td>\n",
       "      <td>4.9</td>\n",
       "      <td>Debit Card</td>\n",
       "    </tr>\n",
       "    <tr>\n",
       "      <th>3</th>\n",
       "      <td>2024-10-21</td>\n",
       "      <td>17:17:25</td>\n",
       "      <td>\"CNR8906825\"</td>\n",
       "      <td>Completed</td>\n",
       "      <td>\"CID2610914\"</td>\n",
       "      <td>Premier Sedan</td>\n",
       "      <td>Central Secretariat</td>\n",
       "      <td>Inderlok</td>\n",
       "      <td>13.1</td>\n",
       "      <td>28.5</td>\n",
       "      <td>...</td>\n",
       "      <td>NaN</td>\n",
       "      <td>NaN</td>\n",
       "      <td>NaN</td>\n",
       "      <td>NaN</td>\n",
       "      <td>NaN</td>\n",
       "      <td>416.0</td>\n",
       "      <td>34.02</td>\n",
       "      <td>4.6</td>\n",
       "      <td>5.0</td>\n",
       "      <td>UPI</td>\n",
       "    </tr>\n",
       "    <tr>\n",
       "      <th>4</th>\n",
       "      <td>2024-09-16</td>\n",
       "      <td>22:08:00</td>\n",
       "      <td>\"CNR1950162\"</td>\n",
       "      <td>Completed</td>\n",
       "      <td>\"CID9933542\"</td>\n",
       "      <td>Bike</td>\n",
       "      <td>Ghitorni Village</td>\n",
       "      <td>Khan Market</td>\n",
       "      <td>5.3</td>\n",
       "      <td>19.6</td>\n",
       "      <td>...</td>\n",
       "      <td>NaN</td>\n",
       "      <td>NaN</td>\n",
       "      <td>NaN</td>\n",
       "      <td>NaN</td>\n",
       "      <td>NaN</td>\n",
       "      <td>737.0</td>\n",
       "      <td>48.21</td>\n",
       "      <td>4.1</td>\n",
       "      <td>4.3</td>\n",
       "      <td>UPI</td>\n",
       "    </tr>\n",
       "  </tbody>\n",
       "</table>\n",
       "<p>5 rows × 21 columns</p>\n",
       "</div>"
      ],
      "text/plain": [
       "         Date      Time    Booking ID   Booking Status   Customer ID  \\\n",
       "0  2024-03-23  12:29:38  \"CNR5884300\"  No Driver Found  \"CID1982111\"   \n",
       "1  2024-11-29  18:01:39  \"CNR1326809\"       Incomplete  \"CID4604802\"   \n",
       "2  2024-08-23  08:56:10  \"CNR8494506\"        Completed  \"CID9202816\"   \n",
       "3  2024-10-21  17:17:25  \"CNR8906825\"        Completed  \"CID2610914\"   \n",
       "4  2024-09-16  22:08:00  \"CNR1950162\"        Completed  \"CID9933542\"   \n",
       "\n",
       "    Vehicle Type      Pickup Location      Drop Location  Avg VTAT  Avg CTAT  \\\n",
       "0          eBike          Palam Vihar            Jhilmil       NaN       NaN   \n",
       "1       Go Sedan        Shastri Nagar  Gurgaon Sector 56       4.9      14.0   \n",
       "2           Auto              Khandsa      Malviya Nagar      13.4      25.8   \n",
       "3  Premier Sedan  Central Secretariat           Inderlok      13.1      28.5   \n",
       "4           Bike     Ghitorni Village        Khan Market       5.3      19.6   \n",
       "\n",
       "   ...  Reason for cancelling by Customer Cancelled Rides by Driver  \\\n",
       "0  ...                                NaN                       NaN   \n",
       "1  ...                                NaN                       NaN   \n",
       "2  ...                                NaN                       NaN   \n",
       "3  ...                                NaN                       NaN   \n",
       "4  ...                                NaN                       NaN   \n",
       "\n",
       "   Driver Cancellation Reason Incomplete Rides  Incomplete Rides Reason  \\\n",
       "0                         NaN              NaN                      NaN   \n",
       "1                         NaN              1.0        Vehicle Breakdown   \n",
       "2                         NaN              NaN                      NaN   \n",
       "3                         NaN              NaN                      NaN   \n",
       "4                         NaN              NaN                      NaN   \n",
       "\n",
       "  Booking Value  Ride Distance  Driver Ratings  Customer Rating  \\\n",
       "0           NaN            NaN             NaN              NaN   \n",
       "1         237.0           5.73             NaN              NaN   \n",
       "2         627.0          13.58             4.9              4.9   \n",
       "3         416.0          34.02             4.6              5.0   \n",
       "4         737.0          48.21             4.1              4.3   \n",
       "\n",
       "   Payment Method  \n",
       "0             NaN  \n",
       "1             UPI  \n",
       "2      Debit Card  \n",
       "3             UPI  \n",
       "4             UPI  \n",
       "\n",
       "[5 rows x 21 columns]"
      ]
     },
     "execution_count": 5,
     "metadata": {},
     "output_type": "execute_result"
    }
   ],
   "source": [
    "df.head()"
   ]
  },
  {
   "cell_type": "markdown",
   "id": "4ac3f6b9",
   "metadata": {},
   "source": [
    "#### General overview"
   ]
  },
  {
   "cell_type": "code",
   "execution_count": 6,
   "id": "971c1769",
   "metadata": {},
   "outputs": [
    {
     "data": {
      "text/html": [
       "<div>\n",
       "<style scoped>\n",
       "    .dataframe tbody tr th:only-of-type {\n",
       "        vertical-align: middle;\n",
       "    }\n",
       "\n",
       "    .dataframe tbody tr th {\n",
       "        vertical-align: top;\n",
       "    }\n",
       "\n",
       "    .dataframe thead th {\n",
       "        text-align: right;\n",
       "    }\n",
       "</style>\n",
       "<table border=\"1\" class=\"dataframe\">\n",
       "  <thead>\n",
       "    <tr style=\"text-align: right;\">\n",
       "      <th></th>\n",
       "      <th>Avg VTAT</th>\n",
       "      <th>Avg CTAT</th>\n",
       "      <th>Cancelled Rides by Customer</th>\n",
       "      <th>Cancelled Rides by Driver</th>\n",
       "      <th>Incomplete Rides</th>\n",
       "      <th>Booking Value</th>\n",
       "      <th>Ride Distance</th>\n",
       "      <th>Driver Ratings</th>\n",
       "      <th>Customer Rating</th>\n",
       "    </tr>\n",
       "  </thead>\n",
       "  <tbody>\n",
       "    <tr>\n",
       "      <th>count</th>\n",
       "      <td>139500.000000</td>\n",
       "      <td>102000.000000</td>\n",
       "      <td>10500.0</td>\n",
       "      <td>27000.0</td>\n",
       "      <td>9000.0</td>\n",
       "      <td>102000.000000</td>\n",
       "      <td>102000.000000</td>\n",
       "      <td>93000.000000</td>\n",
       "      <td>93000.000000</td>\n",
       "    </tr>\n",
       "    <tr>\n",
       "      <th>mean</th>\n",
       "      <td>8.456352</td>\n",
       "      <td>29.149636</td>\n",
       "      <td>1.0</td>\n",
       "      <td>1.0</td>\n",
       "      <td>1.0</td>\n",
       "      <td>508.295912</td>\n",
       "      <td>24.637012</td>\n",
       "      <td>4.230992</td>\n",
       "      <td>4.404584</td>\n",
       "    </tr>\n",
       "    <tr>\n",
       "      <th>std</th>\n",
       "      <td>3.773564</td>\n",
       "      <td>8.902577</td>\n",
       "      <td>0.0</td>\n",
       "      <td>0.0</td>\n",
       "      <td>0.0</td>\n",
       "      <td>395.805774</td>\n",
       "      <td>14.002138</td>\n",
       "      <td>0.436871</td>\n",
       "      <td>0.437819</td>\n",
       "    </tr>\n",
       "    <tr>\n",
       "      <th>min</th>\n",
       "      <td>2.000000</td>\n",
       "      <td>10.000000</td>\n",
       "      <td>1.0</td>\n",
       "      <td>1.0</td>\n",
       "      <td>1.0</td>\n",
       "      <td>50.000000</td>\n",
       "      <td>1.000000</td>\n",
       "      <td>3.000000</td>\n",
       "      <td>3.000000</td>\n",
       "    </tr>\n",
       "    <tr>\n",
       "      <th>25%</th>\n",
       "      <td>5.300000</td>\n",
       "      <td>21.600000</td>\n",
       "      <td>1.0</td>\n",
       "      <td>1.0</td>\n",
       "      <td>1.0</td>\n",
       "      <td>234.000000</td>\n",
       "      <td>12.460000</td>\n",
       "      <td>4.100000</td>\n",
       "      <td>4.200000</td>\n",
       "    </tr>\n",
       "    <tr>\n",
       "      <th>50%</th>\n",
       "      <td>8.300000</td>\n",
       "      <td>28.800000</td>\n",
       "      <td>1.0</td>\n",
       "      <td>1.0</td>\n",
       "      <td>1.0</td>\n",
       "      <td>414.000000</td>\n",
       "      <td>23.720000</td>\n",
       "      <td>4.300000</td>\n",
       "      <td>4.500000</td>\n",
       "    </tr>\n",
       "    <tr>\n",
       "      <th>75%</th>\n",
       "      <td>11.300000</td>\n",
       "      <td>36.800000</td>\n",
       "      <td>1.0</td>\n",
       "      <td>1.0</td>\n",
       "      <td>1.0</td>\n",
       "      <td>689.000000</td>\n",
       "      <td>36.820000</td>\n",
       "      <td>4.600000</td>\n",
       "      <td>4.800000</td>\n",
       "    </tr>\n",
       "    <tr>\n",
       "      <th>max</th>\n",
       "      <td>20.000000</td>\n",
       "      <td>45.000000</td>\n",
       "      <td>1.0</td>\n",
       "      <td>1.0</td>\n",
       "      <td>1.0</td>\n",
       "      <td>4277.000000</td>\n",
       "      <td>50.000000</td>\n",
       "      <td>5.000000</td>\n",
       "      <td>5.000000</td>\n",
       "    </tr>\n",
       "  </tbody>\n",
       "</table>\n",
       "</div>"
      ],
      "text/plain": [
       "            Avg VTAT       Avg CTAT  Cancelled Rides by Customer  \\\n",
       "count  139500.000000  102000.000000                      10500.0   \n",
       "mean        8.456352      29.149636                          1.0   \n",
       "std         3.773564       8.902577                          0.0   \n",
       "min         2.000000      10.000000                          1.0   \n",
       "25%         5.300000      21.600000                          1.0   \n",
       "50%         8.300000      28.800000                          1.0   \n",
       "75%        11.300000      36.800000                          1.0   \n",
       "max        20.000000      45.000000                          1.0   \n",
       "\n",
       "       Cancelled Rides by Driver  Incomplete Rides  Booking Value  \\\n",
       "count                    27000.0            9000.0  102000.000000   \n",
       "mean                         1.0               1.0     508.295912   \n",
       "std                          0.0               0.0     395.805774   \n",
       "min                          1.0               1.0      50.000000   \n",
       "25%                          1.0               1.0     234.000000   \n",
       "50%                          1.0               1.0     414.000000   \n",
       "75%                          1.0               1.0     689.000000   \n",
       "max                          1.0               1.0    4277.000000   \n",
       "\n",
       "       Ride Distance  Driver Ratings  Customer Rating  \n",
       "count  102000.000000    93000.000000     93000.000000  \n",
       "mean       24.637012        4.230992         4.404584  \n",
       "std        14.002138        0.436871         0.437819  \n",
       "min         1.000000        3.000000         3.000000  \n",
       "25%        12.460000        4.100000         4.200000  \n",
       "50%        23.720000        4.300000         4.500000  \n",
       "75%        36.820000        4.600000         4.800000  \n",
       "max        50.000000        5.000000         5.000000  "
      ]
     },
     "execution_count": 6,
     "metadata": {},
     "output_type": "execute_result"
    }
   ],
   "source": [
    "df.describe()"
   ]
  },
  {
   "cell_type": "markdown",
   "id": "95a2a4cc",
   "metadata": {},
   "source": [
    "#### We can take the unknown reviews made by customers to see the problem."
   ]
  },
  {
   "cell_type": "code",
   "execution_count": 7,
   "id": "1f3e0f70",
   "metadata": {},
   "outputs": [
    {
     "data": {
      "text/plain": [
       "np.int64(57000)"
      ]
     },
     "execution_count": 7,
     "metadata": {},
     "output_type": "execute_result"
    }
   ],
   "source": [
    "null_reviews = df[df['Driver Ratings'].isnull()].count()\n",
    "null_reviews[\"Vehicle Type\"]"
   ]
  },
  {
   "cell_type": "markdown",
   "id": "e4b0dcbc",
   "metadata": {},
   "source": [
    "#### Now we check all the ratings grouped by vehicle type.\n",
    "\n",
    "#### We can find there aren`t beneficial for the business cause the average rating is 4.23\n",
    "#### What's the reason?\n"
   ]
  },
  {
   "cell_type": "code",
   "execution_count": null,
   "id": "759ad5a2",
   "metadata": {},
   "outputs": [
    {
     "name": "stdout",
     "output_type": "stream",
     "text": [
      "Most Ubers rides were rated with a score of: 0    4.225614\n",
      "1    4.227694\n",
      "2    4.230056\n",
      "3    4.231812\n",
      "4    4.232369\n",
      "5    4.234865\n",
      "6    4.238340\n",
      "Name: Driver Ratings, dtype: float64\n"
     ]
    }
   ],
   "source": [
    "vehicles_ratings =df.groupby(\"Vehicle Type\")[\"Driver Ratings\"].mean()\n",
    "vehicles_ratings\n",
    "print(\"Most Ubers rides were rated with a score of:\", vehicles_ratings.mode())"
   ]
  },
  {
   "cell_type": "code",
   "execution_count": 9,
   "id": "0e87b456",
   "metadata": {},
   "outputs": [
    {
     "name": "stdout",
     "output_type": "stream",
     "text": [
      "Average rating: 4.2315357203573765\n"
     ]
    }
   ],
   "source": [
    "print(\"Average rating: \" + str(vehicles_ratings.mean()))"
   ]
  },
  {
   "cell_type": "code",
   "execution_count": 31,
   "id": "ef759c7c",
   "metadata": {},
   "outputs": [
    {
     "data": {
      "text/plain": [
       "<Axes: xlabel='Vehicle Type', ylabel='Driver Ratings'>"
      ]
     },
     "execution_count": 31,
     "metadata": {},
     "output_type": "execute_result"
    },
    {
     "data": {
      "image/png": "[encoded data removed]",
      "text/plain": [
       "<Figure size 640x480 with 1 Axes>"
      ]
     },
     "metadata": {},
     "output_type": "display_data"
    }
   ],
   "source": [
    "sb.barplot(data=df, x='Vehicle Type',y=\"Driver Ratings\", hue='Vehicle Type')"
   ]
  },
  {
   "cell_type": "markdown",
   "id": "1bf162bf",
   "metadata": {},
   "source": [
    "#### We can analyze the reason of rides being cancelled"
   ]
  },
  {
   "cell_type": "code",
   "execution_count": 45,
   "id": "62bace29",
   "metadata": {},
   "outputs": [
    {
     "data": {
      "text/plain": [
       "np.int64(37500)"
      ]
     },
     "execution_count": 45,
     "metadata": {},
     "output_type": "execute_result"
    }
   ],
   "source": [
    "#Total number of cancelled rides.\n",
    "cancelled_rides = df[\"Cancelled Rides by Customer\"].count() + df[\"Cancelled Rides by Driver\"].count()\n",
    "cancelled_rides"
   ]
  },
  {
   "cell_type": "code",
   "execution_count": 22,
   "id": "7c17891c",
   "metadata": {},
   "outputs": [
    {
     "name": "stdout",
     "output_type": "stream",
     "text": [
      "Driver Cancellation Reason\n",
      "Customer related issue                 6837\n",
      "More than permitted people in there    6686\n",
      "Personal & Car related issues          6726\n",
      "The customer was coughing/sick         6751\n",
      "Name: Driver Cancellation Reason, dtype: int64\n",
      "Total number of cancelled rides: 37500\n"
     ]
    }
   ],
   "source": [
    "groupded_cancellations = df.groupby('Driver Cancellation Reason')[\"Driver Cancellation Reason\"].count()\n",
    "print(groupded_cancellations)\n",
    "print(\"Total number of cancelled rides:\", cancelled_rides)"
   ]
  },
  {
   "cell_type": "markdown",
   "id": "2adc560e",
   "metadata": {},
   "source": [
    "We find the most prominent reason is because of customers issues."
   ]
  },
  {
   "cell_type": "markdown",
   "id": "09bf2497",
   "metadata": {},
   "source": [
    "#### Now let's see the number of completed rides"
   ]
  },
  {
   "cell_type": "code",
   "execution_count": null,
   "id": "54c63362",
   "metadata": {},
   "outputs": [
    {
     "name": "stdout",
     "output_type": "stream",
     "text": [
      "Date                                 93000\n",
      "Time                                 93000\n",
      "Booking ID                           93000\n",
      "Booking Status                       93000\n",
      "Customer ID                          93000\n",
      "Vehicle Type                         93000\n",
      "Pickup Location                      93000\n",
      "Drop Location                        93000\n",
      "Avg VTAT                             93000\n",
      "Avg CTAT                             93000\n",
      "Cancelled Rides by Customer              0\n",
      "Reason for cancelling by Customer        0\n",
      "Cancelled Rides by Driver                0\n",
      "Driver Cancellation Reason           93000\n",
      "Incomplete Rides                         0\n",
      "Incomplete Rides Reason                  0\n",
      "Booking Value                        93000\n",
      "Ride Distance                        93000\n",
      "Driver Ratings                       93000\n",
      "Customer Rating                      93000\n",
      "Payment Method                       93000\n",
      "dtype: int64\n"
     ]
    }
   ],
   "source": [
    "df_no_cancel = df[df[\"Booking Status\"] == \"Completed\"].count()\n",
    "print(df_no_cancel)"
   ]
  },
  {
   "cell_type": "markdown",
   "id": "9066b71b",
   "metadata": {},
   "source": [
    "#### We perform an operation to get the total number of completed rides"
   ]
  },
  {
   "cell_type": "code",
   "execution_count": 57,
   "id": "709cde1f",
   "metadata": {},
   "outputs": [
    {
     "name": "stdout",
     "output_type": "stream",
     "text": [
      "Total number of completed rides: 21\n"
     ]
    }
   ],
   "source": [
    "total_completed_rides = df_no_cancel - cancelled_rides\n",
    "print(\"Total number of completed rides:\", total_completed_rides.count())"
   ]
  },
  {
   "cell_type": "markdown",
   "id": "d3b8b6b0",
   "metadata": {},
   "source": [
    "#### If the booking value is very expensive, it can have an influence on uber ratings."
   ]
  },
  {
   "cell_type": "markdown",
   "id": "1afe4332",
   "metadata": {},
   "source": [
    "#### Let's find out if its true"
   ]
  },
  {
   "cell_type": "code",
   "execution_count": null,
   "id": "cdb47cc6",
   "metadata": {},
   "outputs": [
    {
     "data": {
      "text/plain": [
       "<Axes: xlabel='Booking Value', ylabel='Driver Ratings'>"
      ]
     },
     "execution_count": 60,
     "metadata": {},
     "output_type": "execute_result"
    },
    {
     "data": {
      "image/png": "[encoded data removed]",
      "text/plain": [
       "<Figure size 640x480 with 1 Axes>"
      ]
     },
     "metadata": {},
     "output_type": "display_data"
    }
   ],
   "source": []
  },
  {
   "cell_type": "code",
   "execution_count": null,
   "id": "b9ff5c27",
   "metadata": {},
   "outputs": [],
   "source": []
  }
 ],
 "metadata": {
  "kernelspec": {
   "display_name": "Python 3",
   "language": "python",
   "name": "python3"
  },
  "language_info": {
   "codemirror_mode": {
    "name": "ipython",
    "version": 3
   },
   "file_extension": ".py",
   "mimetype": "text/x-python",
   "name": "python",
   "nbconvert_exporter": "python",
   "pygments_lexer": "ipython3",
   "version": "3.13.4"
  }
 },
 "nbformat": 4,
 "nbformat_minor": 5
}
