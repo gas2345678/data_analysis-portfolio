{
 "cells": [
  {
   "cell_type": "markdown",
   "metadata": {},
   "source": [
    "# Credit Cards Churned\n",
    "In this project, we will analyze this dataset which contains information about credit cards customers and their information related to the total number of transactions made, their credit limit and so on.\n",
    "\n",
    "This focus in finding a business solution related to the causes of customers leaving their credit cards services and improving and make the customers change their opinion about the bank."
   ]
  },
  {
   "cell_type": "code",
   "execution_count": 24,
   "metadata": {},
   "outputs": [],
   "source": [
    "import pandas as pd \n",
    "import seaborn as sb\n",
    "import matplotlib.pyplot as plt"
   ]
  },
  {
   "cell_type": "code",
   "execution_count": 3,
   "metadata": {},
   "outputs": [],
   "source": [
    "df = pd.read_csv(r\"C:\\Users\\CR\\Desktop\\datasets_used\\data_visualizations\\BankChurners.csv\")"
   ]
  },
  {
   "cell_type": "code",
   "execution_count": 4,
   "metadata": {},
   "outputs": [],
   "source": [
    "df = df.dropna()"
   ]
  },
  {
   "cell_type": "code",
   "execution_count": 5,
   "metadata": {},
   "outputs": [
    {
     "data": {
      "text/html": [
       "<div>\n",
       "<style scoped>\n",
       "    .dataframe tbody tr th:only-of-type {\n",
       "        vertical-align: middle;\n",
       "    }\n",
       "\n",
       "    .dataframe tbody tr th {\n",
       "        vertical-align: top;\n",
       "    }\n",
       "\n",
       "    .dataframe thead th {\n",
       "        text-align: right;\n",
       "    }\n",
       "</style>\n",
       "<table border=\"1\" class=\"dataframe\">\n",
       "  <thead>\n",
       "    <tr style=\"text-align: right;\">\n",
       "      <th></th>\n",
       "      <th>CLIENTNUM</th>\n",
       "      <th>Attrition_Flag</th>\n",
       "      <th>Customer_Age</th>\n",
       "      <th>Gender</th>\n",
       "      <th>Dependent_count</th>\n",
       "      <th>Education_Level</th>\n",
       "      <th>Marital_Status</th>\n",
       "      <th>Income_Category</th>\n",
       "      <th>Card_Category</th>\n",
       "      <th>Months_on_book</th>\n",
       "      <th>...</th>\n",
       "      <th>Credit_Limit</th>\n",
       "      <th>Total_Revolving_Bal</th>\n",
       "      <th>Avg_Open_To_Buy</th>\n",
       "      <th>Total_Amt_Chng_Q4_Q1</th>\n",
       "      <th>Total_Trans_Amt</th>\n",
       "      <th>Total_Trans_Ct</th>\n",
       "      <th>Total_Ct_Chng_Q4_Q1</th>\n",
       "      <th>Avg_Utilization_Ratio</th>\n",
       "      <th>Naive_Bayes_Classifier_Attrition_Flag_Card_Category_Contacts_Count_12_mon_Dependent_count_Education_Level_Months_Inactive_12_mon_1</th>\n",
       "      <th>Naive_Bayes_Classifier_Attrition_Flag_Card_Category_Contacts_Count_12_mon_Dependent_count_Education_Level_Months_Inactive_12_mon_2</th>\n",
       "    </tr>\n",
       "  </thead>\n",
       "  <tbody>\n",
       "    <tr>\n",
       "      <th>0</th>\n",
       "      <td>768805383</td>\n",
       "      <td>Existing Customer</td>\n",
       "      <td>45</td>\n",
       "      <td>M</td>\n",
       "      <td>3</td>\n",
       "      <td>High School</td>\n",
       "      <td>Married</td>\n",
       "      <td>$60K - $80K</td>\n",
       "      <td>Blue</td>\n",
       "      <td>39</td>\n",
       "      <td>...</td>\n",
       "      <td>12691.0</td>\n",
       "      <td>777</td>\n",
       "      <td>11914.0</td>\n",
       "      <td>1.335</td>\n",
       "      <td>1144</td>\n",
       "      <td>42</td>\n",
       "      <td>1.625</td>\n",
       "      <td>0.061</td>\n",
       "      <td>0.000093</td>\n",
       "      <td>0.99991</td>\n",
       "    </tr>\n",
       "    <tr>\n",
       "      <th>1</th>\n",
       "      <td>818770008</td>\n",
       "      <td>Existing Customer</td>\n",
       "      <td>49</td>\n",
       "      <td>F</td>\n",
       "      <td>5</td>\n",
       "      <td>Graduate</td>\n",
       "      <td>Single</td>\n",
       "      <td>Less than $40K</td>\n",
       "      <td>Blue</td>\n",
       "      <td>44</td>\n",
       "      <td>...</td>\n",
       "      <td>8256.0</td>\n",
       "      <td>864</td>\n",
       "      <td>7392.0</td>\n",
       "      <td>1.541</td>\n",
       "      <td>1291</td>\n",
       "      <td>33</td>\n",
       "      <td>3.714</td>\n",
       "      <td>0.105</td>\n",
       "      <td>0.000057</td>\n",
       "      <td>0.99994</td>\n",
       "    </tr>\n",
       "    <tr>\n",
       "      <th>2</th>\n",
       "      <td>713982108</td>\n",
       "      <td>Existing Customer</td>\n",
       "      <td>51</td>\n",
       "      <td>M</td>\n",
       "      <td>3</td>\n",
       "      <td>Graduate</td>\n",
       "      <td>Married</td>\n",
       "      <td>$80K - $120K</td>\n",
       "      <td>Blue</td>\n",
       "      <td>36</td>\n",
       "      <td>...</td>\n",
       "      <td>3418.0</td>\n",
       "      <td>0</td>\n",
       "      <td>3418.0</td>\n",
       "      <td>2.594</td>\n",
       "      <td>1887</td>\n",
       "      <td>20</td>\n",
       "      <td>2.333</td>\n",
       "      <td>0.000</td>\n",
       "      <td>0.000021</td>\n",
       "      <td>0.99998</td>\n",
       "    </tr>\n",
       "    <tr>\n",
       "      <th>3</th>\n",
       "      <td>769911858</td>\n",
       "      <td>Existing Customer</td>\n",
       "      <td>40</td>\n",
       "      <td>F</td>\n",
       "      <td>4</td>\n",
       "      <td>High School</td>\n",
       "      <td>Unknown</td>\n",
       "      <td>Less than $40K</td>\n",
       "      <td>Blue</td>\n",
       "      <td>34</td>\n",
       "      <td>...</td>\n",
       "      <td>3313.0</td>\n",
       "      <td>2517</td>\n",
       "      <td>796.0</td>\n",
       "      <td>1.405</td>\n",
       "      <td>1171</td>\n",
       "      <td>20</td>\n",
       "      <td>2.333</td>\n",
       "      <td>0.760</td>\n",
       "      <td>0.000134</td>\n",
       "      <td>0.99987</td>\n",
       "    </tr>\n",
       "    <tr>\n",
       "      <th>4</th>\n",
       "      <td>709106358</td>\n",
       "      <td>Existing Customer</td>\n",
       "      <td>40</td>\n",
       "      <td>M</td>\n",
       "      <td>3</td>\n",
       "      <td>Uneducated</td>\n",
       "      <td>Married</td>\n",
       "      <td>$60K - $80K</td>\n",
       "      <td>Blue</td>\n",
       "      <td>21</td>\n",
       "      <td>...</td>\n",
       "      <td>4716.0</td>\n",
       "      <td>0</td>\n",
       "      <td>4716.0</td>\n",
       "      <td>2.175</td>\n",
       "      <td>816</td>\n",
       "      <td>28</td>\n",
       "      <td>2.500</td>\n",
       "      <td>0.000</td>\n",
       "      <td>0.000022</td>\n",
       "      <td>0.99998</td>\n",
       "    </tr>\n",
       "  </tbody>\n",
       "</table>\n",
       "<p>5 rows × 23 columns</p>\n",
       "</div>"
      ],
      "text/plain": [
       "   CLIENTNUM     Attrition_Flag  Customer_Age Gender  Dependent_count  \\\n",
       "0  768805383  Existing Customer            45      M                3   \n",
       "1  818770008  Existing Customer            49      F                5   \n",
       "2  713982108  Existing Customer            51      M                3   \n",
       "3  769911858  Existing Customer            40      F                4   \n",
       "4  709106358  Existing Customer            40      M                3   \n",
       "\n",
       "  Education_Level Marital_Status Income_Category Card_Category  \\\n",
       "0     High School        Married     $60K - $80K          Blue   \n",
       "1        Graduate         Single  Less than $40K          Blue   \n",
       "2        Graduate        Married    $80K - $120K          Blue   \n",
       "3     High School        Unknown  Less than $40K          Blue   \n",
       "4      Uneducated        Married     $60K - $80K          Blue   \n",
       "\n",
       "   Months_on_book  ...  Credit_Limit  Total_Revolving_Bal  Avg_Open_To_Buy  \\\n",
       "0              39  ...       12691.0                  777          11914.0   \n",
       "1              44  ...        8256.0                  864           7392.0   \n",
       "2              36  ...        3418.0                    0           3418.0   \n",
       "3              34  ...        3313.0                 2517            796.0   \n",
       "4              21  ...        4716.0                    0           4716.0   \n",
       "\n",
       "   Total_Amt_Chng_Q4_Q1  Total_Trans_Amt  Total_Trans_Ct  Total_Ct_Chng_Q4_Q1  \\\n",
       "0                 1.335             1144              42                1.625   \n",
       "1                 1.541             1291              33                3.714   \n",
       "2                 2.594             1887              20                2.333   \n",
       "3                 1.405             1171              20                2.333   \n",
       "4                 2.175              816              28                2.500   \n",
       "\n",
       "   Avg_Utilization_Ratio  \\\n",
       "0                  0.061   \n",
       "1                  0.105   \n",
       "2                  0.000   \n",
       "3                  0.760   \n",
       "4                  0.000   \n",
       "\n",
       "   Naive_Bayes_Classifier_Attrition_Flag_Card_Category_Contacts_Count_12_mon_Dependent_count_Education_Level_Months_Inactive_12_mon_1  \\\n",
       "0                                           0.000093                                                                                    \n",
       "1                                           0.000057                                                                                    \n",
       "2                                           0.000021                                                                                    \n",
       "3                                           0.000134                                                                                    \n",
       "4                                           0.000022                                                                                    \n",
       "\n",
       "   Naive_Bayes_Classifier_Attrition_Flag_Card_Category_Contacts_Count_12_mon_Dependent_count_Education_Level_Months_Inactive_12_mon_2  \n",
       "0                                            0.99991                                                                                   \n",
       "1                                            0.99994                                                                                   \n",
       "2                                            0.99998                                                                                   \n",
       "3                                            0.99987                                                                                   \n",
       "4                                            0.99998                                                                                   \n",
       "\n",
       "[5 rows x 23 columns]"
      ]
     },
     "execution_count": 5,
     "metadata": {},
     "output_type": "execute_result"
    }
   ],
   "source": [
    "df.head()"
   ]
  },
  {
   "cell_type": "markdown",
   "metadata": {},
   "source": []
  },
  {
   "cell_type": "code",
   "execution_count": 32,
   "metadata": {},
   "outputs": [
    {
     "name": "stdout",
     "output_type": "stream",
     "text": [
      "                     CLIENTNUM  \\\n",
      "Education_Level                  \n",
      "College           750808020279   \n",
      "Doctorate         332567750283   \n",
      "Graduate         2311387331949   \n",
      "High School      1487702837604   \n",
      "Post-Graduate     381279298578   \n",
      "Uneducated       1097734007196   \n",
      "Unknown          1124172373452   \n",
      "\n",
      "                                                    Attrition_Flag  \\\n",
      "Education_Level                                                      \n",
      "College          Existing CustomerExisting CustomerExisting Cus...   \n",
      "Doctorate        Existing CustomerAttrited CustomerExisting Cus...   \n",
      "Graduate         Existing CustomerExisting CustomerExisting Cus...   \n",
      "High School      Existing CustomerExisting CustomerExisting Cus...   \n",
      "Post-Graduate    Existing CustomerExisting CustomerExisting Cus...   \n",
      "Uneducated       Existing CustomerExisting CustomerExisting Cus...   \n",
      "Unknown          Existing CustomerExisting CustomerExisting Cus...   \n",
      "\n",
      "                 Customer_Age  \\\n",
      "Education_Level                 \n",
      "College                 46568   \n",
      "Doctorate               21315   \n",
      "Graduate               144900   \n",
      "High School             93293   \n",
      "Post-Graduate           23510   \n",
      "Uneducated              69032   \n",
      "Unknown                 70525   \n",
      "\n",
      "                                                            Gender  \\\n",
      "Education_Level                                                      \n",
      "College          MaleFemaleFemaleFemaleMaleMaleMaleMaleFemaleMa...   \n",
      "Doctorate        MaleFemaleMaleMaleMaleMaleMaleFemaleMaleMaleMa...   \n",
      "Graduate         FemaleMaleMaleMaleMaleFemaleFemaleFemaleFemale...   \n",
      "High School      MaleFemaleMaleMaleMaleMaleMaleFemaleMaleMaleFe...   \n",
      "Post-Graduate    MaleMaleFemaleMaleFemaleMaleFemaleFemaleMaleMa...   \n",
      "Uneducated       MaleMaleMaleFemaleMaleMaleMaleMaleFemaleMaleFe...   \n",
      "Unknown          MaleMaleMaleMaleFemaleMaleMaleMaleMaleFemaleMa...   \n",
      "\n",
      "                 Dependent_count  \\\n",
      "Education_Level                    \n",
      "College                     2390   \n",
      "Doctorate                   1049   \n",
      "Graduate                    7343   \n",
      "High School                 4654   \n",
      "Post-Graduate               1238   \n",
      "Uneducated                  3499   \n",
      "Unknown                     3587   \n",
      "\n",
      "                                                    Marital_Status  \\\n",
      "Education_Level                                                      \n",
      "College          SingleMarriedSingleSingleSingleMarriedSingleMa...   \n",
      "Doctorate        DivorcedMarriedMarriedMarriedMarriedMarriedMar...   \n",
      "Graduate         SingleMarriedMarriedSingleUnknownMarriedMarrie...   \n",
      "High School      MarriedUnknownUnknownMarriedMarriedUnknownMarr...   \n",
      "Post-Graduate    SingleSingleMarriedSingleSingleSingleMarriedMa...   \n",
      "Uneducated       MarriedSingleUnknownSingleMarriedSingleMarried...   \n",
      "Unknown          MarriedMarriedUnknownMarriedSingleMarriedMarri...   \n",
      "\n",
      "                                                   Income_Category  \\\n",
      "Education_Level                                                      \n",
      "College          $80K - $120KLess than $40KLess than $40K$40K -...   \n",
      "Doctorate        $60K - $80KUnknown$60K - $80K$40K - $60K$80K -...   \n",
      "Graduate         Less than $40K$80K - $120K$40K - $60K$80K - $1...   \n",
      "High School      $60K - $80KLess than $40K$60K - $80K$40K - $60...   \n",
      "Post-Graduate    $80K - $120K$120K +Less than $40K$120K +Less t...   \n",
      "Uneducated       $60K - $80K$60K - $80K$120K +Unknown$60K - $80...   \n",
      "Unknown          $120K +$40K - $60K$80K - $120K$80K - $120KLess...   \n",
      "\n",
      "                                                     Card_Category  \\\n",
      "Education_Level                                                      \n",
      "College          BlueBlueBlueSilverBlueBlueBlueBlueBlueSilverBl...   \n",
      "Doctorate        BlueBlueBlueBlueBlueBlueBlueBlueBlueBlueBlueBl...   \n",
      "Graduate         BlueBlueBlueBlueBlueBlueBlueBlueBlueBlueBlueBl...   \n",
      "High School      BlueBlueSilverBlueBlueBlueBlueGoldBlueBlueBlue...   \n",
      "Post-Graduate    BlueBlueBlueBlueBlueBlueBlueBlueBlueBlueBlueBl...   \n",
      "Uneducated       BlueBlueBlueBlueBlueBlueBlueSilverBlueBlueBlue...   \n",
      "Unknown          GoldBlueBlueBlueBlueBlueBlueBlueBlueBlueBlueBl...   \n",
      "\n",
      "                 Months_on_book  Total_Relationship_Count  ...  Credit_Limit  \\\n",
      "Education_Level                                            ...                 \n",
      "College                   36146                      3798  ...     8797435.1   \n",
      "Doctorate                 16606                      1690  ...     3794379.8   \n",
      "Graduate                 112516                     11965  ...    26794763.7   \n",
      "High School               72409                      7664  ...    17323522.8   \n",
      "Post-Graduate             18242                      2009  ...     4573081.2   \n",
      "Uneducated                53457                      5715  ...    13233569.9   \n",
      "Unknown                   54471                      5769  ...    12899042.6   \n",
      "\n",
      "                 Total_Revolving_Bal  Avg_Open_To_Buy  Total_Amt_Chng_Q4_Q1  \\\n",
      "Education_Level                                                               \n",
      "College                      1150549        7646886.1               774.381   \n",
      "Doctorate                     493432        3300947.8               334.211   \n",
      "Graduate                     3635925       23158838.7              2369.203   \n",
      "High School                  2404233       14919289.8              1534.929   \n",
      "Post-Graduate                 612840        3960241.2               396.136   \n",
      "Uneducated                   1716116       11517453.9              1130.783   \n",
      "Unknown                      1762723       11136319.6              1156.276   \n",
      "\n",
      "                 Total_Trans_Amt  Total_Trans_Ct  Total_Ct_Chng_Q4_Q1  \\\n",
      "Education_Level                                                         \n",
      "College                  4311132           65862              724.171   \n",
      "Doctorate                1891050           28767              312.388   \n",
      "Graduate                13821041          202955             2223.145   \n",
      "High School              8864729          130227             1438.312   \n",
      "Post-Graduate            2329954           33540              362.598   \n",
      "Uneducated               6668215           97124             1069.598   \n",
      "Unknown                  6714061           98349             1082.464   \n",
      "\n",
      "                 Avg_Utilization_Ratio  \\\n",
      "Education_Level                          \n",
      "College                        268.849   \n",
      "Doctorate                      117.539   \n",
      "Graduate                       868.706   \n",
      "High School                    560.168   \n",
      "Post-Graduate                  144.775   \n",
      "Uneducated                     403.854   \n",
      "Unknown                        419.956   \n",
      "\n",
      "                 Naive_Bayes_Classifier_Attrition_Flag_Card_Category_Contacts_Count_12_mon_Dependent_count_Education_Level_Months_Inactive_12_mon_1  \\\n",
      "Education_Level                                                                                                                                       \n",
      "College                                                 153.351084                                                                                    \n",
      "Doctorate                                                94.773821                                                                                    \n",
      "Graduate                                                484.940401                                                                                    \n",
      "High School                                             304.528557                                                                                    \n",
      "Post-Graduate                                            91.657568                                                                                    \n",
      "Uneducated                                              236.049778                                                                                    \n",
      "Unknown                                                 254.993109                                                                                    \n",
      "\n",
      "                 Naive_Bayes_Classifier_Attrition_Flag_Card_Category_Contacts_Count_12_mon_Dependent_count_Education_Level_Months_Inactive_12_mon_2  \n",
      "Education_Level                                                                                                                                      \n",
      "College                                                 859.649230                                                                                   \n",
      "Doctorate                                               356.226183                                                                                   \n",
      "Graduate                                               2643.059435                                                                                   \n",
      "High School                                            1708.472047                                                                                   \n",
      "Post-Graduate                                           424.342656                                                                                   \n",
      "Uneducated                                             1250.950693                                                                                   \n",
      "Unknown                                                1264.005791                                                                                   \n",
      "\n",
      "[7 rows x 22 columns]\n"
     ]
    }
   ],
   "source": [
    "educational_level_customers = df.groupby(\"Education_Level\").sum()\n",
    "print(educational_level_customers)"
   ]
  },
  {
   "cell_type": "code",
   "execution_count": 21,
   "metadata": {},
   "outputs": [],
   "source": [
    "df = df.replace({\"M\":\"Male\",\"F\":\"Female\"})"
   ]
  },
  {
   "cell_type": "markdown",
   "metadata": {},
   "source": [
    "We create a barplot to see the total number of mens and women for each educational level"
   ]
  },
  {
   "cell_type": "code",
   "execution_count": 31,
   "metadata": {},
   "outputs": [
    {
     "data": {
      "image/png": "[encoded data removed]",
      "text/plain": [
       "<Figure size 640x480 with 1 Axes>"
      ]
     },
     "metadata": {},
     "output_type": "display_data"
    }
   ],
   "source": [
    "gender_transactions = sb.barplot(data=df,x=\"Gender\",y=\"Total_Trans_Ct\",hue=\"Education_Level\")"
   ]
  },
  {
   "cell_type": "markdown",
   "metadata": {},
   "source": [
    "We want to know how many customers are active"
   ]
  },
  {
   "cell_type": "code",
   "execution_count": 52,
   "metadata": {},
   "outputs": [
    {
     "name": "stdout",
     "output_type": "stream",
     "text": [
      "Attrition_Flag\n",
      "Attrited Customer    1627\n",
      "Existing Customer    8500\n",
      "Name: Attrition_Flag, dtype: int64\n"
     ]
    }
   ],
   "source": [
    "customers_flag = df.groupby(\"Attrition_Flag\")[\"Attrition_Flag\"].agg(\"count\")\n",
    "print(customers_flag)"
   ]
  },
  {
   "cell_type": "markdown",
   "metadata": {},
   "source": [
    "We find there are more existing customers than attritied customers.\n",
    "\n",
    "We can see if there is a correlation between marital status and their flag."
   ]
  },
  {
   "cell_type": "markdown",
   "metadata": {},
   "source": [
    "There is no an exact correlation"
   ]
  },
  {
   "cell_type": "code",
   "execution_count": 47,
   "metadata": {},
   "outputs": [
    {
     "data": {
      "text/plain": [
       "<Axes: xlabel='Attrition_Flag'>"
      ]
     },
     "execution_count": 47,
     "metadata": {},
     "output_type": "execute_result"
    },
    {
     "data": {
      "image/png": "[encoded data removed]",
      "text/plain": [
       "<Figure size 640x480 with 1 Axes>"
      ]
     },
     "metadata": {},
     "output_type": "display_data"
    }
   ],
   "source": [
    "sb.violinplot(data=df,x=\"Attrition_Flag\",hue=\"Marital_Status\")\n"
   ]
  },
  {
   "cell_type": "markdown",
   "metadata": {},
   "source": [
    "We can see if there is a possible correlation between age of customers and their decision"
   ]
  },
  {
   "cell_type": "code",
   "execution_count": 70,
   "metadata": {},
   "outputs": [
    {
     "name": "stdout",
     "output_type": "stream",
     "text": [
      "0        False\n",
      "1        False\n",
      "2        False\n",
      "3        False\n",
      "4        False\n",
      "         ...  \n",
      "10122    False\n",
      "10123     True\n",
      "10124     True\n",
      "10125     True\n",
      "10126     True\n",
      "Name: Attrition_Flag, Length: 10127, dtype: bool\n"
     ]
    }
   ],
   "source": [
    "no_existing_customers = df[\"Attrition_Flag\"] == \"Attrited Customer\"\n",
    "print(no_existing_customers)\n"
   ]
  },
  {
   "cell_type": "code",
   "execution_count": 74,
   "metadata": {},
   "outputs": [
    {
     "data": {
      "text/plain": [
       "<Axes: xlabel='Customer_Age', ylabel='Attrition_Flag'>"
      ]
     },
     "execution_count": 74,
     "metadata": {},
     "output_type": "execute_result"
    },
    {
     "data": {
      "image/png": "[encoded data removed]",
      "text/plain": [
       "<Figure size 640x480 with 1 Axes>"
      ]
     },
     "metadata": {},
     "output_type": "display_data"
    }
   ],
   "source": [
    "sb.scatterplot(data=df,x=\"Customer_Age\",y=no_existing_customers)"
   ]
  },
  {
   "cell_type": "markdown",
   "metadata": {},
   "source": [
    "We find either customers from 20 to 50 years old tend to keep with the service as leaving the service."
   ]
  }
 ],
 "metadata": {
  "kernelspec": {
   "display_name": "Python 3",
   "language": "python",
   "name": "python3"
  },
  "language_info": {
   "codemirror_mode": {
    "name": "ipython",
    "version": 3
   },
   "file_extension": ".py",
   "mimetype": "text/x-python",
   "name": "python",
   "nbconvert_exporter": "python",
   "pygments_lexer": "ipython3",
   "version": "3.13.1"
  }
 },
 "nbformat": 4,
 "nbformat_minor": 2
}
