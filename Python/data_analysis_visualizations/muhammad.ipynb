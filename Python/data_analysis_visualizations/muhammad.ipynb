{
 "cells": [
  {
   "cell_type": "code",
   "execution_count": 2,
   "metadata": {},
   "outputs": [],
   "source": [
    "import pandas as pd \n",
    "import seaborn as sb \n",
    "import matplotlib.pyplot as plt\n",
    "\n"
   ]
  },
  {
   "cell_type": "code",
   "execution_count": 3,
   "metadata": {},
   "outputs": [],
   "source": [
    "df = pd.read_csv(r\"C:\\Users\\CR\\Desktop\\datasets_used\\data_visualizations\\muhammad_boxing.csv\")"
   ]
  },
  {
   "cell_type": "code",
   "execution_count": 4,
   "metadata": {},
   "outputs": [
    {
     "data": {
      "text/html": [
       "<div>\n",
       "<style scoped>\n",
       "    .dataframe tbody tr th:only-of-type {\n",
       "        vertical-align: middle;\n",
       "    }\n",
       "\n",
       "    .dataframe tbody tr th {\n",
       "        vertical-align: top;\n",
       "    }\n",
       "\n",
       "    .dataframe thead th {\n",
       "        text-align: right;\n",
       "    }\n",
       "</style>\n",
       "<table border=\"1\" class=\"dataframe\">\n",
       "  <thead>\n",
       "    <tr style=\"text-align: right;\">\n",
       "      <th></th>\n",
       "      <th>Unnamed: 0</th>\n",
       "      <th>Result</th>\n",
       "      <th>Record</th>\n",
       "      <th>Opponent</th>\n",
       "      <th>Type</th>\n",
       "      <th>Round, time</th>\n",
       "      <th>Date</th>\n",
       "      <th>Age(in years)</th>\n",
       "      <th>Age(additional days)</th>\n",
       "      <th>Location</th>\n",
       "      <th>Notes</th>\n",
       "    </tr>\n",
       "  </thead>\n",
       "  <tbody>\n",
       "    <tr>\n",
       "      <th>0</th>\n",
       "      <td>0</td>\n",
       "      <td>Win</td>\n",
       "      <td>1–0</td>\n",
       "      <td>Tunney Hunsaker</td>\n",
       "      <td>UD</td>\n",
       "      <td>6</td>\n",
       "      <td>Oct 29, 1960</td>\n",
       "      <td>18</td>\n",
       "      <td>286</td>\n",
       "      <td>Freedom Hall, Louisville, Kentucky, U.S.</td>\n",
       "      <td>Not Available</td>\n",
       "    </tr>\n",
       "    <tr>\n",
       "      <th>1</th>\n",
       "      <td>1</td>\n",
       "      <td>Win</td>\n",
       "      <td>2–0</td>\n",
       "      <td>Herb Siler</td>\n",
       "      <td>TKO</td>\n",
       "      <td>4 (8), 1:00</td>\n",
       "      <td>Dec 27, 1960</td>\n",
       "      <td>18</td>\n",
       "      <td>345</td>\n",
       "      <td>Municipal Auditorium, Miami Beach, Florida, U.S.</td>\n",
       "      <td>Not Available</td>\n",
       "    </tr>\n",
       "    <tr>\n",
       "      <th>2</th>\n",
       "      <td>2</td>\n",
       "      <td>Win</td>\n",
       "      <td>3–0</td>\n",
       "      <td>Tony Esperti</td>\n",
       "      <td>TKO</td>\n",
       "      <td>3 (8), 1:30</td>\n",
       "      <td>Jan 17, 1961</td>\n",
       "      <td>19</td>\n",
       "      <td>0</td>\n",
       "      <td>Municipal Auditorium, Miami Beach, Florida, U.S.</td>\n",
       "      <td>Not Available</td>\n",
       "    </tr>\n",
       "    <tr>\n",
       "      <th>3</th>\n",
       "      <td>3</td>\n",
       "      <td>Win</td>\n",
       "      <td>4–0</td>\n",
       "      <td>Jim Robinson</td>\n",
       "      <td>KO</td>\n",
       "      <td>1 (8), 1:34</td>\n",
       "      <td>Feb 7, 1961</td>\n",
       "      <td>19</td>\n",
       "      <td>21</td>\n",
       "      <td>Convention Center, Miami Beach, Florida, U.S.</td>\n",
       "      <td>Not Available</td>\n",
       "    </tr>\n",
       "    <tr>\n",
       "      <th>4</th>\n",
       "      <td>4</td>\n",
       "      <td>Win</td>\n",
       "      <td>5–0</td>\n",
       "      <td>Donnie Fleeman</td>\n",
       "      <td>RTD</td>\n",
       "      <td>6 (8)</td>\n",
       "      <td>Feb 21, 1961</td>\n",
       "      <td>19</td>\n",
       "      <td>35</td>\n",
       "      <td>Municipal Auditorium, Miami Beach, Florida, U.S.</td>\n",
       "      <td>Not Available</td>\n",
       "    </tr>\n",
       "  </tbody>\n",
       "</table>\n",
       "</div>"
      ],
      "text/plain": [
       "   Unnamed: 0 Result Record         Opponent Type  Round, time          Date  \\\n",
       "0           0    Win    1–0  Tunney Hunsaker   UD            6  Oct 29, 1960   \n",
       "1           1    Win    2–0       Herb Siler  TKO  4 (8), 1:00  Dec 27, 1960   \n",
       "2           2    Win    3–0     Tony Esperti  TKO  3 (8), 1:30  Jan 17, 1961   \n",
       "3           3    Win    4–0     Jim Robinson   KO  1 (8), 1:34   Feb 7, 1961   \n",
       "4           4    Win    5–0   Donnie Fleeman  RTD        6 (8)  Feb 21, 1961   \n",
       "\n",
       "   Age(in years)  Age(additional days)  \\\n",
       "0             18                   286   \n",
       "1             18                   345   \n",
       "2             19                     0   \n",
       "3             19                    21   \n",
       "4             19                    35   \n",
       "\n",
       "                                           Location          Notes  \n",
       "0          Freedom Hall, Louisville, Kentucky, U.S.  Not Available  \n",
       "1  Municipal Auditorium, Miami Beach, Florida, U.S.  Not Available  \n",
       "2  Municipal Auditorium, Miami Beach, Florida, U.S.  Not Available  \n",
       "3     Convention Center, Miami Beach, Florida, U.S.  Not Available  \n",
       "4  Municipal Auditorium, Miami Beach, Florida, U.S.  Not Available  "
      ]
     },
     "execution_count": 4,
     "metadata": {},
     "output_type": "execute_result"
    }
   ],
   "source": [
    "df.head()"
   ]
  },
  {
   "cell_type": "code",
   "execution_count": 5,
   "metadata": {},
   "outputs": [
    {
     "data": {
      "text/plain": [
       "(164, 11)"
      ]
     },
     "execution_count": 5,
     "metadata": {},
     "output_type": "execute_result"
    }
   ],
   "source": [
    "df.shape"
   ]
  },
  {
   "cell_type": "code",
   "execution_count": 6,
   "metadata": {},
   "outputs": [
    {
     "data": {
      "text/html": [
       "<div>\n",
       "<style scoped>\n",
       "    .dataframe tbody tr th:only-of-type {\n",
       "        vertical-align: middle;\n",
       "    }\n",
       "\n",
       "    .dataframe tbody tr th {\n",
       "        vertical-align: top;\n",
       "    }\n",
       "\n",
       "    .dataframe thead th {\n",
       "        text-align: right;\n",
       "    }\n",
       "</style>\n",
       "<table border=\"1\" class=\"dataframe\">\n",
       "  <thead>\n",
       "    <tr style=\"text-align: right;\">\n",
       "      <th></th>\n",
       "      <th>Unnamed: 0</th>\n",
       "      <th>Result</th>\n",
       "      <th>Record</th>\n",
       "      <th>Opponent</th>\n",
       "      <th>Type</th>\n",
       "      <th>Round, time</th>\n",
       "      <th>Date</th>\n",
       "      <th>Age(in years)</th>\n",
       "      <th>Age(additional days)</th>\n",
       "      <th>Location</th>\n",
       "      <th>Notes</th>\n",
       "    </tr>\n",
       "  </thead>\n",
       "  <tbody>\n",
       "    <tr>\n",
       "      <th>0</th>\n",
       "      <td>0</td>\n",
       "      <td>Win</td>\n",
       "      <td>1–0</td>\n",
       "      <td>Tunney Hunsaker</td>\n",
       "      <td>UD</td>\n",
       "      <td>6</td>\n",
       "      <td>Oct 29, 1960</td>\n",
       "      <td>18</td>\n",
       "      <td>286</td>\n",
       "      <td>Freedom Hall, Louisville, Kentucky, U.S.</td>\n",
       "      <td>Not Available</td>\n",
       "    </tr>\n",
       "    <tr>\n",
       "      <th>1</th>\n",
       "      <td>1</td>\n",
       "      <td>Win</td>\n",
       "      <td>2–0</td>\n",
       "      <td>Herb Siler</td>\n",
       "      <td>TKO</td>\n",
       "      <td>4 (8), 1:00</td>\n",
       "      <td>Dec 27, 1960</td>\n",
       "      <td>18</td>\n",
       "      <td>345</td>\n",
       "      <td>Municipal Auditorium, Miami Beach, Florida, U.S.</td>\n",
       "      <td>Not Available</td>\n",
       "    </tr>\n",
       "    <tr>\n",
       "      <th>2</th>\n",
       "      <td>2</td>\n",
       "      <td>Win</td>\n",
       "      <td>3–0</td>\n",
       "      <td>Tony Esperti</td>\n",
       "      <td>TKO</td>\n",
       "      <td>3 (8), 1:30</td>\n",
       "      <td>Jan 17, 1961</td>\n",
       "      <td>19</td>\n",
       "      <td>0</td>\n",
       "      <td>Municipal Auditorium, Miami Beach, Florida, U.S.</td>\n",
       "      <td>Not Available</td>\n",
       "    </tr>\n",
       "    <tr>\n",
       "      <th>3</th>\n",
       "      <td>3</td>\n",
       "      <td>Win</td>\n",
       "      <td>4–0</td>\n",
       "      <td>Jim Robinson</td>\n",
       "      <td>KO</td>\n",
       "      <td>1 (8), 1:34</td>\n",
       "      <td>Feb 7, 1961</td>\n",
       "      <td>19</td>\n",
       "      <td>21</td>\n",
       "      <td>Convention Center, Miami Beach, Florida, U.S.</td>\n",
       "      <td>Not Available</td>\n",
       "    </tr>\n",
       "    <tr>\n",
       "      <th>4</th>\n",
       "      <td>4</td>\n",
       "      <td>Win</td>\n",
       "      <td>5–0</td>\n",
       "      <td>Donnie Fleeman</td>\n",
       "      <td>RTD</td>\n",
       "      <td>6 (8)</td>\n",
       "      <td>Feb 21, 1961</td>\n",
       "      <td>19</td>\n",
       "      <td>35</td>\n",
       "      <td>Municipal Auditorium, Miami Beach, Florida, U.S.</td>\n",
       "      <td>Not Available</td>\n",
       "    </tr>\n",
       "    <tr>\n",
       "      <th>...</th>\n",
       "      <td>...</td>\n",
       "      <td>...</td>\n",
       "      <td>...</td>\n",
       "      <td>...</td>\n",
       "      <td>...</td>\n",
       "      <td>...</td>\n",
       "      <td>...</td>\n",
       "      <td>...</td>\n",
       "      <td>...</td>\n",
       "      <td>...</td>\n",
       "      <td>...</td>\n",
       "    </tr>\n",
       "    <tr>\n",
       "      <th>120</th>\n",
       "      <td>120</td>\n",
       "      <td>Loss</td>\n",
       "      <td>0–1 (59)</td>\n",
       "      <td>Bill Cunningham</td>\n",
       "      <td>KO</td>\n",
       "      <td>? (2)</td>\n",
       "      <td>Jun 6, 1975</td>\n",
       "      <td>33</td>\n",
       "      <td>140</td>\n",
       "      <td>Olympia Stadium, Detroit, Michigan</td>\n",
       "      <td>Not Available</td>\n",
       "    </tr>\n",
       "    <tr>\n",
       "      <th>122</th>\n",
       "      <td>122</td>\n",
       "      <td>Loss</td>\n",
       "      <td>0–2 (60)</td>\n",
       "      <td>José Miguel Agrelot</td>\n",
       "      <td>KO</td>\n",
       "      <td>?</td>\n",
       "      <td>Feb 6, 1976</td>\n",
       "      <td>34</td>\n",
       "      <td>20</td>\n",
       "      <td>Cancha Pepin Cestero, Bayamón, Puerto Rico</td>\n",
       "      <td>Not Available</td>\n",
       "    </tr>\n",
       "    <tr>\n",
       "      <th>123</th>\n",
       "      <td>123</td>\n",
       "      <td>Draw</td>\n",
       "      <td>0-2-1 (60)</td>\n",
       "      <td>Antonio Inoki</td>\n",
       "      <td>PTS</td>\n",
       "      <td>15</td>\n",
       "      <td>Jun 25, 1976</td>\n",
       "      <td>34</td>\n",
       "      <td>160</td>\n",
       "      <td>Nippon Budokan, Tokyo, Japan</td>\n",
       "      <td>Under special boxing-wrestling rules.</td>\n",
       "    </tr>\n",
       "    <tr>\n",
       "      <th>134</th>\n",
       "      <td>134</td>\n",
       "      <td>Loss</td>\n",
       "      <td>0-3-1 (70)</td>\n",
       "      <td>Bruce Wells</td>\n",
       "      <td>KO</td>\n",
       "      <td>?</td>\n",
       "      <td>Aug 12, 1977</td>\n",
       "      <td>35</td>\n",
       "      <td>207</td>\n",
       "      <td>South Shields, England</td>\n",
       "      <td>Not Available</td>\n",
       "    </tr>\n",
       "    <tr>\n",
       "      <th>163</th>\n",
       "      <td>163</td>\n",
       "      <td>Draw</td>\n",
       "      <td>0-3-2 (98)</td>\n",
       "      <td>Dave Semenko</td>\n",
       "      <td>PTS</td>\n",
       "      <td>3</td>\n",
       "      <td>Jun 12, 1983</td>\n",
       "      <td>41</td>\n",
       "      <td>146</td>\n",
       "      <td>Northlands Coliseum, Edmonton, Alberta, Canada</td>\n",
       "      <td>Not Available</td>\n",
       "    </tr>\n",
       "  </tbody>\n",
       "</table>\n",
       "<p>66 rows × 11 columns</p>\n",
       "</div>"
      ],
      "text/plain": [
       "     Unnamed: 0 Result      Record             Opponent Type  Round, time  \\\n",
       "0             0    Win         1–0      Tunney Hunsaker   UD            6   \n",
       "1             1    Win         2–0           Herb Siler  TKO  4 (8), 1:00   \n",
       "2             2    Win         3–0         Tony Esperti  TKO  3 (8), 1:30   \n",
       "3             3    Win         4–0         Jim Robinson   KO  1 (8), 1:34   \n",
       "4             4    Win         5–0       Donnie Fleeman  RTD        6 (8)   \n",
       "..          ...    ...         ...                  ...  ...          ...   \n",
       "120         120   Loss    0–1 (59)      Bill Cunningham   KO        ? (2)   \n",
       "122         122   Loss    0–2 (60)  José Miguel Agrelot   KO            ?   \n",
       "123         123   Draw  0-2-1 (60)        Antonio Inoki  PTS           15   \n",
       "134         134   Loss  0-3-1 (70)          Bruce Wells   KO            ?   \n",
       "163         163   Draw  0-3-2 (98)         Dave Semenko  PTS            3   \n",
       "\n",
       "             Date  Age(in years)  Age(additional days)  \\\n",
       "0    Oct 29, 1960             18                   286   \n",
       "1    Dec 27, 1960             18                   345   \n",
       "2    Jan 17, 1961             19                     0   \n",
       "3     Feb 7, 1961             19                    21   \n",
       "4    Feb 21, 1961             19                    35   \n",
       "..            ...            ...                   ...   \n",
       "120   Jun 6, 1975             33                   140   \n",
       "122   Feb 6, 1976             34                    20   \n",
       "123  Jun 25, 1976             34                   160   \n",
       "134  Aug 12, 1977             35                   207   \n",
       "163  Jun 12, 1983             41                   146   \n",
       "\n",
       "                                             Location  \\\n",
       "0            Freedom Hall, Louisville, Kentucky, U.S.   \n",
       "1    Municipal Auditorium, Miami Beach, Florida, U.S.   \n",
       "2    Municipal Auditorium, Miami Beach, Florida, U.S.   \n",
       "3       Convention Center, Miami Beach, Florida, U.S.   \n",
       "4    Municipal Auditorium, Miami Beach, Florida, U.S.   \n",
       "..                                                ...   \n",
       "120                Olympia Stadium, Detroit, Michigan   \n",
       "122        Cancha Pepin Cestero, Bayamón, Puerto Rico   \n",
       "123                      Nippon Budokan, Tokyo, Japan   \n",
       "134                            South Shields, England   \n",
       "163    Northlands Coliseum, Edmonton, Alberta, Canada   \n",
       "\n",
       "                                     Notes  \n",
       "0                            Not Available  \n",
       "1                            Not Available  \n",
       "2                            Not Available  \n",
       "3                            Not Available  \n",
       "4                            Not Available  \n",
       "..                                     ...  \n",
       "120                          Not Available  \n",
       "122                          Not Available  \n",
       "123  Under special boxing-wrestling rules.  \n",
       "134                          Not Available  \n",
       "163                          Not Available  \n",
       "\n",
       "[66 rows x 11 columns]"
      ]
     },
     "execution_count": 6,
     "metadata": {},
     "output_type": "execute_result"
    }
   ],
   "source": [
    "df.dropna()"
   ]
  },
  {
   "cell_type": "code",
   "execution_count": 7,
   "metadata": {},
   "outputs": [],
   "source": [
    "df = df.drop(columns=\"Unnamed: 0\")"
   ]
  },
  {
   "cell_type": "code",
   "execution_count": 8,
   "metadata": {},
   "outputs": [
    {
     "name": "stdout",
     "output_type": "stream",
     "text": [
      "0         Tunney Hunsaker\n",
      "1              Herb Siler\n",
      "2            Tony Esperti\n",
      "3            Jim Robinson\n",
      "4          Donnie Fleeman\n",
      "5             LaMar Clark\n",
      "6           Duke Sabedong\n",
      "7          Alonzo Johnson\n",
      "8             Alex Miteff\n",
      "9         Willi Besmanoff\n",
      "10            Sonny Banks\n",
      "11             Don Warner\n",
      "12           George Logan\n",
      "13          Billy Daniels\n",
      "14    Alejandro Lavorante\n",
      "15           Archie Moore\n",
      "16         Charlie Powell\n",
      "17             Doug Jones\n",
      "18           Henry Cooper\n",
      "19           Sonny Liston\n",
      "20           Sonny Liston\n",
      "21        Floyd Patterson\n",
      "22         George Chuvalo\n",
      "23           Henry Cooper\n",
      "24           Brian London\n",
      "25      Karl Mildenberger\n",
      "26     Cleveland Williams\n",
      "27          Ernie Terrell\n",
      "28            Zora Folley\n",
      "29           Jerry Quarry\n",
      "30         Oscar Bonavena\n",
      "32            Jimmy Ellis\n",
      "33          Buster Mathis\n",
      "34            Jürgen Blin\n",
      "35             Mac Foster\n",
      "36         George Chuvalo\n",
      "37           Jerry Quarry\n",
      "38            Alvin Lewis\n",
      "39        Floyd Patterson\n",
      "40             Bob Foster\n",
      "41             Joe Bugner\n",
      "43             Ken Norton\n",
      "44          Rudie Lubbers\n",
      "45            Joe Frazier\n",
      "46         George Foreman\n",
      "47           Chuck Wepner\n",
      "48               Ron Lyle\n",
      "49             Joe Bugner\n",
      "50            Joe Frazier\n",
      "51    Jean-Pierre Coopman\n",
      "52            Jimmy Young\n",
      "53           Richard Dunn\n",
      "54             Ken Norton\n",
      "55    Alfredo Evangelista\n",
      "56         Earnie Shavers\n",
      "58            Leon Spinks\n",
      "Name: Opponent, dtype: object\n",
      "Total: 56\n"
     ]
    }
   ],
   "source": [
    "#Select muhammad opponents which were defeated \n",
    "muhammad_victories = df.loc[df[\"Result\"] == \"Win\"]\n",
    "print(muhammad_victories.Opponent)\n",
    "print(\"Total: \" + str(muhammad_victories.Opponent.count()))\n"
   ]
  },
  {
   "cell_type": "code",
   "execution_count": 9,
   "metadata": {},
   "outputs": [
    {
     "data": {
      "text/plain": [
       "<Axes: xlabel='Result', ylabel='count'>"
      ]
     },
     "execution_count": 9,
     "metadata": {},
     "output_type": "execute_result"
    },
    {
     "data": {
      "image/png": "[encoded data removed]",
      "text/plain": [
       "<Figure size 640x480 with 1 Axes>"
      ]
     },
     "metadata": {},
     "output_type": "display_data"
    }
   ],
   "source": [
    "#How many fights did muhammad lose?\n",
    "\n",
    "sb.countplot(data=df,x=\"Result\",hue=\"Result\")"
   ]
  },
  {
   "cell_type": "code",
   "execution_count": 10,
   "metadata": {},
   "outputs": [
    {
     "data": {
      "text/plain": [
       "<Axes: xlabel='Age(in years)', ylabel='Result'>"
      ]
     },
     "execution_count": 10,
     "metadata": {},
     "output_type": "execute_result"
    },
    {
     "data": {
      "image/png": "[encoded data removed]",
      "text/plain": [
       "<Figure size 640x480 with 1 Axes>"
      ]
     },
     "metadata": {},
     "output_type": "display_data"
    }
   ],
   "source": [
    "#how were the results of muhammad fights over their career?\n",
    "sb.scatterplot(data=df,x=\"Age(in years)\",y=\"Result\")"
   ]
  },
  {
   "cell_type": "code",
   "execution_count": 15,
   "metadata": {},
   "outputs": [
    {
     "data": {
      "text/plain": [
       "Text(0, 0.5, 'Total')"
      ]
     },
     "execution_count": 15,
     "metadata": {},
     "output_type": "execute_result"
    },
    {
     "data": {
      "image/png": "[encoded data removed]",
      "text/plain": [
       "<Figure size 640x480 with 1 Axes>"
      ]
     },
     "metadata": {},
     "output_type": "display_data"
    }
   ],
   "source": [
    "types_results = sb.countplot(data=df,x=\"Type\",hue=\"Type\")\n",
    "types_results.set_title(\"number of results\")\n",
    "types_results.set_xlabel(\"Result\")\n",
    "types_results.set_ylabel(\"Total\")"
   ]
  },
  {
   "cell_type": "code",
   "execution_count": 16,
   "metadata": {},
   "outputs": [
    {
     "data": {
      "text/html": [
       "<div>\n",
       "<style scoped>\n",
       "    .dataframe tbody tr th:only-of-type {\n",
       "        vertical-align: middle;\n",
       "    }\n",
       "\n",
       "    .dataframe tbody tr th {\n",
       "        vertical-align: top;\n",
       "    }\n",
       "\n",
       "    .dataframe thead th {\n",
       "        text-align: right;\n",
       "    }\n",
       "</style>\n",
       "<table border=\"1\" class=\"dataframe\">\n",
       "  <thead>\n",
       "    <tr style=\"text-align: right;\">\n",
       "      <th></th>\n",
       "      <th>Result</th>\n",
       "      <th>Record</th>\n",
       "      <th>Opponent</th>\n",
       "      <th>Type</th>\n",
       "      <th>Round, time</th>\n",
       "      <th>Date</th>\n",
       "      <th>Age(in years)</th>\n",
       "      <th>Age(additional days)</th>\n",
       "      <th>Location</th>\n",
       "      <th>Notes</th>\n",
       "    </tr>\n",
       "  </thead>\n",
       "  <tbody>\n",
       "    <tr>\n",
       "      <th>0</th>\n",
       "      <td>Win</td>\n",
       "      <td>1–0</td>\n",
       "      <td>Tunney Hunsaker</td>\n",
       "      <td>UD</td>\n",
       "      <td>6</td>\n",
       "      <td>Oct 29, 1960</td>\n",
       "      <td>18</td>\n",
       "      <td>286</td>\n",
       "      <td>Freedom Hall, Louisville, Kentucky, U.S.</td>\n",
       "      <td>Not Available</td>\n",
       "    </tr>\n",
       "    <tr>\n",
       "      <th>1</th>\n",
       "      <td>Win</td>\n",
       "      <td>2–0</td>\n",
       "      <td>Herb Siler</td>\n",
       "      <td>TKO</td>\n",
       "      <td>4 (8), 1:00</td>\n",
       "      <td>Dec 27, 1960</td>\n",
       "      <td>18</td>\n",
       "      <td>345</td>\n",
       "      <td>Municipal Auditorium, Miami Beach, Florida, U.S.</td>\n",
       "      <td>Not Available</td>\n",
       "    </tr>\n",
       "    <tr>\n",
       "      <th>2</th>\n",
       "      <td>Win</td>\n",
       "      <td>3–0</td>\n",
       "      <td>Tony Esperti</td>\n",
       "      <td>TKO</td>\n",
       "      <td>3 (8), 1:30</td>\n",
       "      <td>Jan 17, 1961</td>\n",
       "      <td>19</td>\n",
       "      <td>0</td>\n",
       "      <td>Municipal Auditorium, Miami Beach, Florida, U.S.</td>\n",
       "      <td>Not Available</td>\n",
       "    </tr>\n",
       "    <tr>\n",
       "      <th>3</th>\n",
       "      <td>Win</td>\n",
       "      <td>4–0</td>\n",
       "      <td>Jim Robinson</td>\n",
       "      <td>KO</td>\n",
       "      <td>1 (8), 1:34</td>\n",
       "      <td>Feb 7, 1961</td>\n",
       "      <td>19</td>\n",
       "      <td>21</td>\n",
       "      <td>Convention Center, Miami Beach, Florida, U.S.</td>\n",
       "      <td>Not Available</td>\n",
       "    </tr>\n",
       "    <tr>\n",
       "      <th>4</th>\n",
       "      <td>Win</td>\n",
       "      <td>5–0</td>\n",
       "      <td>Donnie Fleeman</td>\n",
       "      <td>RTD</td>\n",
       "      <td>6 (8)</td>\n",
       "      <td>Feb 21, 1961</td>\n",
       "      <td>19</td>\n",
       "      <td>35</td>\n",
       "      <td>Municipal Auditorium, Miami Beach, Florida, U.S.</td>\n",
       "      <td>Not Available</td>\n",
       "    </tr>\n",
       "  </tbody>\n",
       "</table>\n",
       "</div>"
      ],
      "text/plain": [
       "  Result Record         Opponent Type  Round, time          Date  \\\n",
       "0    Win    1–0  Tunney Hunsaker   UD            6  Oct 29, 1960   \n",
       "1    Win    2–0       Herb Siler  TKO  4 (8), 1:00  Dec 27, 1960   \n",
       "2    Win    3–0     Tony Esperti  TKO  3 (8), 1:30  Jan 17, 1961   \n",
       "3    Win    4–0     Jim Robinson   KO  1 (8), 1:34   Feb 7, 1961   \n",
       "4    Win    5–0   Donnie Fleeman  RTD        6 (8)  Feb 21, 1961   \n",
       "\n",
       "   Age(in years)  Age(additional days)  \\\n",
       "0             18                   286   \n",
       "1             18                   345   \n",
       "2             19                     0   \n",
       "3             19                    21   \n",
       "4             19                    35   \n",
       "\n",
       "                                           Location          Notes  \n",
       "0          Freedom Hall, Louisville, Kentucky, U.S.  Not Available  \n",
       "1  Municipal Auditorium, Miami Beach, Florida, U.S.  Not Available  \n",
       "2  Municipal Auditorium, Miami Beach, Florida, U.S.  Not Available  \n",
       "3     Convention Center, Miami Beach, Florida, U.S.  Not Available  \n",
       "4  Municipal Auditorium, Miami Beach, Florida, U.S.  Not Available  "
      ]
     },
     "execution_count": 16,
     "metadata": {},
     "output_type": "execute_result"
    }
   ],
   "source": [
    "df.head()"
   ]
  },
  {
   "cell_type": "code",
   "execution_count": null,
   "metadata": {},
   "outputs": [],
   "source": [
    "#We take two samples of the dataset to see different result at the time of visualize the results\n",
    "sample_data= df.sample(n=100,random_state=10040232)\n",
    "second_data_sample = df.sample(n=100,random_state=21543100)"
   ]
  },
  {
   "cell_type": "code",
   "execution_count": null,
   "metadata": {},
   "outputs": [
    {
     "name": "stdout",
     "output_type": "stream",
     "text": [
      "Axes(0.125,0.11;0.775x0.77)\n"
     ]
    },
    {
     "data": {
      "image/png": "[encoded data removed]",
      "text/plain": [
       "<Figure size 640x480 with 1 Axes>"
      ]
     },
     "metadata": {},
     "output_type": "display_data"
    }
   ],
   "source": [
    "#Result of our first sample\n",
    "print(sb.countplot(data=sample_data,x=\"Result\",hue=\"Result\"))"
   ]
  },
  {
   "cell_type": "code",
   "execution_count": null,
   "metadata": {},
   "outputs": [
    {
     "name": "stdout",
     "output_type": "stream",
     "text": [
      "Axes(0.125,0.11;0.775x0.77)\n"
     ]
    },
    {
     "data": {
      "image/png": "[encoded data removed]",
      "text/plain": [
       "<Figure size 640x480 with 1 Axes>"
      ]
     },
     "metadata": {},
     "output_type": "display_data"
    }
   ],
   "source": [
    "#Result of our second sample\n",
    "print(sb.countplot(data=second_data_sample,x=\"Result\",hue=\"Result\"))\n"
   ]
  },
  {
   "cell_type": "code",
   "execution_count": null,
   "metadata": {},
   "outputs": [
    {
     "name": "stderr",
     "output_type": "stream",
     "text": [
      "C:\\Users\\CR\\AppData\\Local\\Temp\\ipykernel_1496\\692679375.py:1: UserWarning: Ignoring `palette` because no `hue` variable has been assigned.\n",
      "  sb.lineplot(data=df,x=\"Age(in years)\",y=\"Type\",dashes=True,palette=\"dark\")\n"
     ]
    },
    {
     "data": {
      "text/plain": [
       "<Axes: xlabel='Age(in years)', ylabel='Type'>"
      ]
     },
     "execution_count": 56,
     "metadata": {},
     "output_type": "execute_result"
    },
    {
     "data": {
      "image/png": "[encoded data removed]",
      "text/plain": [
       "<Figure size 640x480 with 1 Axes>"
      ]
     },
     "metadata": {},
     "output_type": "display_data"
    }
   ],
   "source": []
  }
 ],
 "metadata": {
  "kernelspec": {
   "display_name": "Python 3",
   "language": "python",
   "name": "python3"
  },
  "language_info": {
   "codemirror_mode": {
    "name": "ipython",
    "version": 3
   },
   "file_extension": ".py",
   "mimetype": "text/x-python",
   "name": "python",
   "nbconvert_exporter": "python",
   "pygments_lexer": "ipython3",
   "version": "3.13.0"
  }
 },
 "nbformat": 4,
 "nbformat_minor": 2
}
