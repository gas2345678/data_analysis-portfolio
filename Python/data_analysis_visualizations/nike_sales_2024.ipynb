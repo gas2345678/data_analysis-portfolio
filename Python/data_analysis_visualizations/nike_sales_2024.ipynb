{
 "cells": [
  {
   "cell_type": "markdown",
   "metadata": {},
   "source": [
    "### Nike Sales-2024\n",
    "For this project, we will make an analysis of Nike sales during 2024, paying attention to certain parameters like sales on different regions to find insights about the causes of\n",
    "such successes.\n",
    "In this case, we will make an EDA(exploratory data analysis) using Plotly, Pandas and cofflinks.This last one help us to establish a better communication between Pandas and Plotly.\n",
    "\n",
    "### Tools used:\n",
    "\n",
    "#### Pandas\n",
    "#### Seaborn\n",
    "#### Matplotlib\n"
   ]
  },
  {
   "cell_type": "code",
   "execution_count": 48,
   "metadata": {},
   "outputs": [],
   "source": [
    "#Import the libraries \n",
    "import pandas as pd \n",
    "import numpy as np\n",
    "import seaborn as sb\n",
    "import matplotlib.pyplot as plt\n"
   ]
  },
  {
   "cell_type": "code",
   "execution_count": 13,
   "metadata": {},
   "outputs": [],
   "source": [
    "df = pd.read_csv(r\"C:\\Users\\CR\\Desktop\\datasets_used\\data_visualizations\\nike_sales_2024.csv\")"
   ]
  },
  {
   "cell_type": "markdown",
   "metadata": {},
   "source": [
    "### Fist rows of the dataset"
   ]
  },
  {
   "cell_type": "code",
   "execution_count": 14,
   "metadata": {},
   "outputs": [
    {
     "data": {
      "text/html": [
       "<div>\n",
       "<style scoped>\n",
       "    .dataframe tbody tr th:only-of-type {\n",
       "        vertical-align: middle;\n",
       "    }\n",
       "\n",
       "    .dataframe tbody tr th {\n",
       "        vertical-align: top;\n",
       "    }\n",
       "\n",
       "    .dataframe thead th {\n",
       "        text-align: right;\n",
       "    }\n",
       "</style>\n",
       "<table border=\"1\" class=\"dataframe\">\n",
       "  <thead>\n",
       "    <tr style=\"text-align: right;\">\n",
       "      <th></th>\n",
       "      <th>Month</th>\n",
       "      <th>Region</th>\n",
       "      <th>Main_Category</th>\n",
       "      <th>Sub_Category</th>\n",
       "      <th>Product_Line</th>\n",
       "      <th>Price_Tier</th>\n",
       "      <th>Units_Sold</th>\n",
       "      <th>Revenue_USD</th>\n",
       "      <th>Online_Sales_Percentage</th>\n",
       "      <th>Retail_Price</th>\n",
       "    </tr>\n",
       "  </thead>\n",
       "  <tbody>\n",
       "    <tr>\n",
       "      <th>0</th>\n",
       "      <td>November</td>\n",
       "      <td>India</td>\n",
       "      <td>Equipment</td>\n",
       "      <td>Bags</td>\n",
       "      <td>Gym Sack</td>\n",
       "      <td>Budget</td>\n",
       "      <td>48356</td>\n",
       "      <td>14506800</td>\n",
       "      <td>73</td>\n",
       "      <td>300</td>\n",
       "    </tr>\n",
       "    <tr>\n",
       "      <th>1</th>\n",
       "      <td>January</td>\n",
       "      <td>India</td>\n",
       "      <td>Equipment</td>\n",
       "      <td>Accessories</td>\n",
       "      <td>Hats</td>\n",
       "      <td>Budget</td>\n",
       "      <td>9842</td>\n",
       "      <td>2066820</td>\n",
       "      <td>50</td>\n",
       "      <td>210</td>\n",
       "    </tr>\n",
       "    <tr>\n",
       "      <th>2</th>\n",
       "      <td>October</td>\n",
       "      <td>India</td>\n",
       "      <td>Apparel</td>\n",
       "      <td>Tops</td>\n",
       "      <td>Tech Fleece</td>\n",
       "      <td>Mid-Range</td>\n",
       "      <td>25079</td>\n",
       "      <td>1755530</td>\n",
       "      <td>90</td>\n",
       "      <td>70</td>\n",
       "    </tr>\n",
       "    <tr>\n",
       "      <th>3</th>\n",
       "      <td>December</td>\n",
       "      <td>Greater China</td>\n",
       "      <td>Footwear</td>\n",
       "      <td>Cricket</td>\n",
       "      <td>Vapor Cricket</td>\n",
       "      <td>Premium</td>\n",
       "      <td>41404</td>\n",
       "      <td>8694840</td>\n",
       "      <td>58</td>\n",
       "      <td>210</td>\n",
       "    </tr>\n",
       "    <tr>\n",
       "      <th>4</th>\n",
       "      <td>May</td>\n",
       "      <td>Greater China</td>\n",
       "      <td>Equipment</td>\n",
       "      <td>Socks</td>\n",
       "      <td>Performance Socks</td>\n",
       "      <td>Premium</td>\n",
       "      <td>33569</td>\n",
       "      <td>5371040</td>\n",
       "      <td>53</td>\n",
       "      <td>160</td>\n",
       "    </tr>\n",
       "  </tbody>\n",
       "</table>\n",
       "</div>"
      ],
      "text/plain": [
       "      Month         Region Main_Category Sub_Category       Product_Line  \\\n",
       "0  November          India     Equipment         Bags           Gym Sack   \n",
       "1   January          India     Equipment  Accessories               Hats   \n",
       "2   October          India       Apparel         Tops        Tech Fleece   \n",
       "3  December  Greater China      Footwear      Cricket      Vapor Cricket   \n",
       "4       May  Greater China     Equipment        Socks  Performance Socks   \n",
       "\n",
       "  Price_Tier  Units_Sold  Revenue_USD  Online_Sales_Percentage  Retail_Price  \n",
       "0     Budget       48356     14506800                       73           300  \n",
       "1     Budget        9842      2066820                       50           210  \n",
       "2  Mid-Range       25079      1755530                       90            70  \n",
       "3    Premium       41404      8694840                       58           210  \n",
       "4    Premium       33569      5371040                       53           160  "
      ]
     },
     "execution_count": 14,
     "metadata": {},
     "output_type": "execute_result"
    }
   ],
   "source": [
    "#First rows of our dataset\n",
    "df.head()"
   ]
  },
  {
   "cell_type": "markdown",
   "metadata": {},
   "source": [
    "### Statistic summary of the dataset"
   ]
  },
  {
   "cell_type": "code",
   "execution_count": 15,
   "metadata": {},
   "outputs": [
    {
     "data": {
      "text/html": [
       "<div>\n",
       "<style scoped>\n",
       "    .dataframe tbody tr th:only-of-type {\n",
       "        vertical-align: middle;\n",
       "    }\n",
       "\n",
       "    .dataframe tbody tr th {\n",
       "        vertical-align: top;\n",
       "    }\n",
       "\n",
       "    .dataframe thead th {\n",
       "        text-align: right;\n",
       "    }\n",
       "</style>\n",
       "<table border=\"1\" class=\"dataframe\">\n",
       "  <thead>\n",
       "    <tr style=\"text-align: right;\">\n",
       "      <th></th>\n",
       "      <th>Units_Sold</th>\n",
       "      <th>Revenue_USD</th>\n",
       "      <th>Online_Sales_Percentage</th>\n",
       "      <th>Retail_Price</th>\n",
       "    </tr>\n",
       "  </thead>\n",
       "  <tbody>\n",
       "    <tr>\n",
       "      <th>count</th>\n",
       "      <td>1000.000000</td>\n",
       "      <td>1.000000e+03</td>\n",
       "      <td>1000.000000</td>\n",
       "      <td>1000.00000</td>\n",
       "    </tr>\n",
       "    <tr>\n",
       "      <th>mean</th>\n",
       "      <td>28498.951000</td>\n",
       "      <td>5.039576e+06</td>\n",
       "      <td>70.040000</td>\n",
       "      <td>176.32000</td>\n",
       "    </tr>\n",
       "    <tr>\n",
       "      <th>std</th>\n",
       "      <td>12926.495678</td>\n",
       "      <td>3.267217e+06</td>\n",
       "      <td>11.748635</td>\n",
       "      <td>75.26169</td>\n",
       "    </tr>\n",
       "    <tr>\n",
       "      <th>min</th>\n",
       "      <td>5028.000000</td>\n",
       "      <td>2.874000e+05</td>\n",
       "      <td>50.000000</td>\n",
       "      <td>50.00000</td>\n",
       "    </tr>\n",
       "    <tr>\n",
       "      <th>25%</th>\n",
       "      <td>17554.250000</td>\n",
       "      <td>2.344675e+06</td>\n",
       "      <td>60.000000</td>\n",
       "      <td>110.00000</td>\n",
       "    </tr>\n",
       "    <tr>\n",
       "      <th>50%</th>\n",
       "      <td>28685.000000</td>\n",
       "      <td>4.328020e+06</td>\n",
       "      <td>71.000000</td>\n",
       "      <td>180.00000</td>\n",
       "    </tr>\n",
       "    <tr>\n",
       "      <th>75%</th>\n",
       "      <td>40026.000000</td>\n",
       "      <td>7.264942e+06</td>\n",
       "      <td>80.000000</td>\n",
       "      <td>240.00000</td>\n",
       "    </tr>\n",
       "    <tr>\n",
       "      <th>max</th>\n",
       "      <td>49992.000000</td>\n",
       "      <td>1.486470e+07</td>\n",
       "      <td>90.000000</td>\n",
       "      <td>300.00000</td>\n",
       "    </tr>\n",
       "  </tbody>\n",
       "</table>\n",
       "</div>"
      ],
      "text/plain": [
       "         Units_Sold   Revenue_USD  Online_Sales_Percentage  Retail_Price\n",
       "count   1000.000000  1.000000e+03              1000.000000    1000.00000\n",
       "mean   28498.951000  5.039576e+06                70.040000     176.32000\n",
       "std    12926.495678  3.267217e+06                11.748635      75.26169\n",
       "min     5028.000000  2.874000e+05                50.000000      50.00000\n",
       "25%    17554.250000  2.344675e+06                60.000000     110.00000\n",
       "50%    28685.000000  4.328020e+06                71.000000     180.00000\n",
       "75%    40026.000000  7.264942e+06                80.000000     240.00000\n",
       "max    49992.000000  1.486470e+07                90.000000     300.00000"
      ]
     },
     "execution_count": 15,
     "metadata": {},
     "output_type": "execute_result"
    }
   ],
   "source": [
    "#Statistical analysis of our data\n",
    "df.describe()"
   ]
  },
  {
   "cell_type": "code",
   "execution_count": 16,
   "metadata": {},
   "outputs": [],
   "source": [
    "#Drop null values\n",
    "df = df.dropna()"
   ]
  },
  {
   "cell_type": "code",
   "execution_count": 62,
   "metadata": {},
   "outputs": [
    {
     "data": {
      "text/html": [
       "<div>\n",
       "<style scoped>\n",
       "    .dataframe tbody tr th:only-of-type {\n",
       "        vertical-align: middle;\n",
       "    }\n",
       "\n",
       "    .dataframe tbody tr th {\n",
       "        vertical-align: top;\n",
       "    }\n",
       "\n",
       "    .dataframe thead th {\n",
       "        text-align: right;\n",
       "    }\n",
       "</style>\n",
       "<table border=\"1\" class=\"dataframe\">\n",
       "  <thead>\n",
       "    <tr style=\"text-align: right;\">\n",
       "      <th></th>\n",
       "      <th>Month</th>\n",
       "      <th>Region</th>\n",
       "      <th>Main_Category</th>\n",
       "      <th>Sub_Category</th>\n",
       "      <th>Product_Line</th>\n",
       "      <th>Price_Tier</th>\n",
       "      <th>Units_Sold</th>\n",
       "      <th>Revenue_USD</th>\n",
       "      <th>Online_Sales_Percentages(%)</th>\n",
       "      <th>Retail_Price</th>\n",
       "    </tr>\n",
       "  </thead>\n",
       "  <tbody>\n",
       "    <tr>\n",
       "      <th>635</th>\n",
       "      <td>April</td>\n",
       "      <td>Japan</td>\n",
       "      <td>Footwear</td>\n",
       "      <td>Basketball</td>\n",
       "      <td>Air Jordan</td>\n",
       "      <td>Mid-Range</td>\n",
       "      <td>11441</td>\n",
       "      <td>2059380</td>\n",
       "      <td>50</td>\n",
       "      <td>180</td>\n",
       "    </tr>\n",
       "    <tr>\n",
       "      <th>631</th>\n",
       "      <td>April</td>\n",
       "      <td>Eur</td>\n",
       "      <td>Footwear</td>\n",
       "      <td>Football</td>\n",
       "      <td>Mercurial</td>\n",
       "      <td>Premium</td>\n",
       "      <td>21644</td>\n",
       "      <td>5627440</td>\n",
       "      <td>64</td>\n",
       "      <td>260</td>\n",
       "    </tr>\n",
       "    <tr>\n",
       "      <th>312</th>\n",
       "      <td>April</td>\n",
       "      <td>Japan</td>\n",
       "      <td>Footwear</td>\n",
       "      <td>Lifestyle</td>\n",
       "      <td>Air Force 1</td>\n",
       "      <td>Budget</td>\n",
       "      <td>27736</td>\n",
       "      <td>4160400</td>\n",
       "      <td>73</td>\n",
       "      <td>150</td>\n",
       "    </tr>\n",
       "    <tr>\n",
       "      <th>847</th>\n",
       "      <td>April</td>\n",
       "      <td>Southeast Asia</td>\n",
       "      <td>Footwear</td>\n",
       "      <td>Running</td>\n",
       "      <td>Pegasus</td>\n",
       "      <td>Premium</td>\n",
       "      <td>36810</td>\n",
       "      <td>11043000</td>\n",
       "      <td>78</td>\n",
       "      <td>300</td>\n",
       "    </tr>\n",
       "    <tr>\n",
       "      <th>477</th>\n",
       "      <td>April</td>\n",
       "      <td>Southeast Asia</td>\n",
       "      <td>Apparel</td>\n",
       "      <td>Performance</td>\n",
       "      <td>Compression Wear</td>\n",
       "      <td>Premium</td>\n",
       "      <td>31840</td>\n",
       "      <td>3502400</td>\n",
       "      <td>65</td>\n",
       "      <td>110</td>\n",
       "    </tr>\n",
       "    <tr>\n",
       "      <th>489</th>\n",
       "      <td>April</td>\n",
       "      <td>America</td>\n",
       "      <td>Equipment</td>\n",
       "      <td>Bags</td>\n",
       "      <td>Backpack</td>\n",
       "      <td>Budget</td>\n",
       "      <td>45099</td>\n",
       "      <td>9019800</td>\n",
       "      <td>50</td>\n",
       "      <td>200</td>\n",
       "    </tr>\n",
       "    <tr>\n",
       "      <th>873</th>\n",
       "      <td>April</td>\n",
       "      <td>America</td>\n",
       "      <td>Apparel</td>\n",
       "      <td>Performance</td>\n",
       "      <td>Dri-FIT</td>\n",
       "      <td>Budget</td>\n",
       "      <td>23160</td>\n",
       "      <td>5326800</td>\n",
       "      <td>73</td>\n",
       "      <td>230</td>\n",
       "    </tr>\n",
       "    <tr>\n",
       "      <th>60</th>\n",
       "      <td>April</td>\n",
       "      <td>South Korea</td>\n",
       "      <td>Equipment</td>\n",
       "      <td>Accessories</td>\n",
       "      <td>Bags</td>\n",
       "      <td>Premium</td>\n",
       "      <td>28886</td>\n",
       "      <td>6354920</td>\n",
       "      <td>54</td>\n",
       "      <td>220</td>\n",
       "    </tr>\n",
       "    <tr>\n",
       "      <th>881</th>\n",
       "      <td>April</td>\n",
       "      <td>America</td>\n",
       "      <td>Apparel</td>\n",
       "      <td>Performance</td>\n",
       "      <td>Compression Wear</td>\n",
       "      <td>Premium</td>\n",
       "      <td>35933</td>\n",
       "      <td>8623920</td>\n",
       "      <td>62</td>\n",
       "      <td>240</td>\n",
       "    </tr>\n",
       "    <tr>\n",
       "      <th>684</th>\n",
       "      <td>April</td>\n",
       "      <td>Grea_China</td>\n",
       "      <td>Apparel</td>\n",
       "      <td>Tops</td>\n",
       "      <td>Therma-FIT</td>\n",
       "      <td>Mid-Range</td>\n",
       "      <td>37179</td>\n",
       "      <td>5948640</td>\n",
       "      <td>63</td>\n",
       "      <td>160</td>\n",
       "    </tr>\n",
       "  </tbody>\n",
       "</table>\n",
       "</div>"
      ],
      "text/plain": [
       "     Month          Region Main_Category Sub_Category      Product_Line  \\\n",
       "635  April           Japan      Footwear   Basketball        Air Jordan   \n",
       "631  April             Eur      Footwear     Football         Mercurial   \n",
       "312  April           Japan      Footwear    Lifestyle       Air Force 1   \n",
       "847  April  Southeast Asia      Footwear      Running           Pegasus   \n",
       "477  April  Southeast Asia       Apparel  Performance  Compression Wear   \n",
       "489  April         America     Equipment         Bags          Backpack   \n",
       "873  April         America       Apparel  Performance           Dri-FIT   \n",
       "60   April     South Korea     Equipment  Accessories              Bags   \n",
       "881  April         America       Apparel  Performance  Compression Wear   \n",
       "684  April      Grea_China       Apparel         Tops        Therma-FIT   \n",
       "\n",
       "    Price_Tier  Units_Sold  Revenue_USD  Online_Sales_Percentages(%)  \\\n",
       "635  Mid-Range       11441      2059380                           50   \n",
       "631    Premium       21644      5627440                           64   \n",
       "312     Budget       27736      4160400                           73   \n",
       "847    Premium       36810     11043000                           78   \n",
       "477    Premium       31840      3502400                           65   \n",
       "489     Budget       45099      9019800                           50   \n",
       "873     Budget       23160      5326800                           73   \n",
       "60     Premium       28886      6354920                           54   \n",
       "881    Premium       35933      8623920                           62   \n",
       "684  Mid-Range       37179      5948640                           63   \n",
       "\n",
       "     Retail_Price  \n",
       "635           180  \n",
       "631           260  \n",
       "312           150  \n",
       "847           300  \n",
       "477           110  \n",
       "489           200  \n",
       "873           230  \n",
       "60            220  \n",
       "881           240  \n",
       "684           160  "
      ]
     },
     "execution_count": 62,
     "metadata": {},
     "output_type": "execute_result"
    }
   ],
   "source": [
    "#Add a percentage value to the 10th for a easiest reading\n",
    "df = df.rename(columns={\"Online_Sales_Percentage\": \"Online_Sales_Percentages(%)\"})\n",
    "\n",
    "df = df.sort_values(by=\"Month\",ascending=True)\n",
    "df.head(10)\n"
   ]
  },
  {
   "cell_type": "markdown",
   "metadata": {},
   "source": [
    "We look for all available clothes categories available\n"
   ]
  },
  {
   "cell_type": "code",
   "execution_count": 18,
   "metadata": {},
   "outputs": [
    {
     "name": "stdout",
     "output_type": "stream",
     "text": [
      "Main_Category\n",
      "Apparel      343\n",
      "Equipment    352\n",
      "Footwear     305\n",
      "Name: Main_Category, dtype: int64\n",
      "Main_Category\n",
      "Apparel      343\n",
      "Equipment    352\n",
      "Footwear     305\n",
      "Name: Main_Category, dtype: int64\n"
     ]
    }
   ],
   "source": [
    "#we divide total categories and total subcategories\n",
    "main_categories = df.groupby(\"Main_Category\")[\"Main_Category\"].agg(\"count\")\n",
    "sub_categories = df.groupby(\"Main_Category\")[\"Main_Category\"].agg(\"count\")\n",
    "\n",
    "print(main_categories)\n",
    "print(sub_categories)\n"
   ]
  },
  {
   "cell_type": "code",
   "execution_count": 65,
   "metadata": {},
   "outputs": [
    {
     "data": {
      "text/plain": [
       "array(['Japan', 'Eur', 'So_east_Asia', 'America', 'South Korea',\n",
       "       'Grea_China', 'India'], dtype=object)"
      ]
     },
     "execution_count": 65,
     "metadata": {},
     "output_type": "execute_result"
    }
   ],
   "source": [
    "df[\"Region\"].unique()"
   ]
  },
  {
   "cell_type": "markdown",
   "metadata": {},
   "source": [
    "Now let's examine the total Revenue for each main category available"
   ]
  },
  {
   "cell_type": "markdown",
   "metadata": {},
   "source": [
    "### Total revenue for each category"
   ]
  },
  {
   "cell_type": "code",
   "execution_count": 26,
   "metadata": {},
   "outputs": [
    {
     "name": "stdout",
     "output_type": "stream",
     "text": [
      "Main_Category\n",
      "Apparel      1729076120\n",
      "Equipment    1777325390\n",
      "Footwear     1533174900\n",
      "Name: Revenue_USD, dtype: int64\n"
     ]
    },
    {
     "data": {
      "text/plain": [
       "Text(0, 0.5, 'Revenue in USD(millons)')"
      ]
     },
     "execution_count": 26,
     "metadata": {},
     "output_type": "execute_result"
    },
    {
     "data": {
      "image/png": "[encoded data removed]",
      "text/plain": [
       "<Figure size 640x480 with 1 Axes>"
      ]
     },
     "metadata": {},
     "output_type": "display_data"
    }
   ],
   "source": [
    "#Plot of total revenue per category\n",
    "revenue_per_category = df.groupby(\"Main_Category\")[\"Revenue_USD\"].sum()\n",
    "print(revenue_per_category)\n",
    "revenue_plot = sb.barplot(revenue_per_category)\n",
    "revenue_plot.set_title(\"Products total profit\")\n",
    "revenue_plot.set_ylabel(\"Revenue in USD(millons)\")\n",
    "\n",
    "\n"
   ]
  },
  {
   "cell_type": "markdown",
   "metadata": {},
   "source": [
    "Using the Seaborn library, we will make a scatterplot to see the distribution of sales in different months of the year\n",
    "\n",
    "\n",
    "As we can see, the month with the highest number of sales was November,while the other months reach a lookalike result.\n",
    "We personalize our scatterplot to be able to select the months we want to know their results."
   ]
  },
  {
   "cell_type": "markdown",
   "metadata": {},
   "source": [
    "First, we will abbreviate the months names to work with a more flexible format."
   ]
  },
  {
   "cell_type": "markdown",
   "metadata": {},
   "source": [
    "### Rename months names for better reading"
   ]
  },
  {
   "cell_type": "code",
   "execution_count": 74,
   "metadata": {},
   "outputs": [],
   "source": [
    "df = df.replace({\"November\":\"Nov\",\"January\":\"Jan\",\"October\":\"Oct\",\"December\":\"Dec\",\"May\":\"May\",\"September\":\"Sep\",\"August\":\"Aug\",\"February\":\"Feb\"})"
   ]
  },
  {
   "cell_type": "markdown",
   "metadata": {},
   "source": [
    "### Barplot of total units sold for each month, differentiated by color."
   ]
  },
  {
   "cell_type": "code",
   "execution_count": 54,
   "metadata": {},
   "outputs": [
    {
     "data": {
      "text/plain": [
       "Text(0, 0.5, 'Units sold')"
      ]
     },
     "execution_count": 54,
     "metadata": {},
     "output_type": "execute_result"
    },
    {
     "data": {
      "image/png": "[encoded data removed]",
      "text/plain": [
       "<Figure size 640x480 with 1 Axes>"
      ]
     },
     "metadata": {},
     "output_type": "display_data"
    }
   ],
   "source": [
    "bar_sales = sb.barplot(data=df,x=\"Month\",y=\"Units_Sold\",hue=\"Month\",fill=True)\n",
    "bar_sales.set_title(\"2024 sales\")\n",
    "bar_sales.set_ylabel(\"Units sold\")\n"
   ]
  },
  {
   "cell_type": "markdown",
   "metadata": {},
   "source": [
    "There were not significant changes related to sales during 2024"
   ]
  },
  {
   "cell_type": "markdown",
   "metadata": {},
   "source": [
    "The maximum sales amount was registered in December, while the lowest amount of sales was registered in July."
   ]
  },
  {
   "cell_type": "markdown",
   "metadata": {},
   "source": [
    "In average, Nike earned 5039576 dollars."
   ]
  },
  {
   "cell_type": "code",
   "execution_count": 51,
   "metadata": {},
   "outputs": [
    {
     "name": "stdout",
     "output_type": "stream",
     "text": [
      "5039576.0\n"
     ]
    }
   ],
   "source": [
    "average_nike_sales = df[\"Revenue_USD\"].mean()\n",
    "print(np.round(average_nike_sales))"
   ]
  },
  {
   "cell_type": "markdown",
   "metadata": {},
   "source": [
    "Nike has registered different amount of sales for each category in differents countries.\n",
    "\n",
    "We create a comparison of sales performance for each country and category."
   ]
  },
  {
   "cell_type": "code",
   "execution_count": 76,
   "metadata": {},
   "outputs": [
    {
     "data": {
      "text/plain": [
       "Region\n",
       "America         147\n",
       "Eur             133\n",
       "Grea_China      161\n",
       "India           145\n",
       "Japan           144\n",
       "So_east_Asia    124\n",
       "Sou_Korea       146\n",
       "Name: Units_Sold, dtype: int64"
      ]
     },
     "execution_count": 76,
     "metadata": {},
     "output_type": "execute_result"
    }
   ],
   "source": [
    "df.groupby(\"Region\")[\"Units_Sold\"].count()"
   ]
  }
 ],
 "metadata": {
  "kernelspec": {
   "display_name": "Python 3",
   "language": "python",
   "name": "python3"
  },
  "language_info": {
   "codemirror_mode": {
    "name": "ipython",
    "version": 3
   },
   "file_extension": ".py",
   "mimetype": "text/x-python",
   "name": "python",
   "nbconvert_exporter": "python",
   "pygments_lexer": "ipython3",
   "version": "3.13.2"
  }
 },
 "nbformat": 4,
 "nbformat_minor": 2
}
